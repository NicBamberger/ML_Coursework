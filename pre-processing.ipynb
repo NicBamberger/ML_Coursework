{
 "cells": [
  {
   "cell_type": "code",
   "execution_count": 156,
   "metadata": {},
   "outputs": [],
   "source": [
    "import time\n",
    "t_start = time.time()"
   ]
  },
  {
   "cell_type": "code",
   "execution_count": 157,
   "metadata": {},
   "outputs": [],
   "source": [
    "import pandas as pd\n",
    "import matplotlib.pyplot as plt\n",
    "import numpy as np\n",
    "\n",
    "import seaborn as sns"
   ]
  },
  {
   "cell_type": "code",
   "execution_count": 158,
   "metadata": {},
   "outputs": [],
   "source": [
    "np.random.seed(123)"
   ]
  },
  {
   "cell_type": "code",
   "execution_count": 159,
   "metadata": {},
   "outputs": [],
   "source": [
    "N_FILES = 6"
   ]
  },
  {
   "cell_type": "code",
   "execution_count": 160,
   "metadata": {},
   "outputs": [
    {
     "data": {
      "text/plain": [
       "'\\nOriginal link: https://www.kaggle.com/c/decoding-the-human-brain/data\\n'"
      ]
     },
     "execution_count": 160,
     "metadata": {},
     "output_type": "execute_result"
    }
   ],
   "source": [
    "\"\"\"\n",
    "Original link: https://www.kaggle.com/c/decoding-the-human-brain/data\n",
    "\"\"\"\n",
    "\n",
    "# def create_data():\n",
    "#     path = \"Swarm_Behaviour.csv\"\n",
    "#     total_df = pd.read_csv(path)\n",
    "#     N_COLS = len(total_df.columns)\n",
    "#     # this creates the slices from the original csv (too large to commit)\n",
    "#     for i in range(N_FILES):\n",
    "#         slice_df = total_df[total_df.columns[i * N_COLS // N_FILES: (i+1) * N_COLS // N_FILES]]\n",
    "#         slice_df.to_parquet(f'slice{i}.parquet.gzip')\n",
    "\n",
    "# create_data()"
   ]
  },
  {
   "cell_type": "code",
   "execution_count": 161,
   "metadata": {},
   "outputs": [],
   "source": [
    "# use this cell to recreate the original dataframe using the slices\n",
    "dfs = []\n",
    "\n",
    "for i in range(N_FILES):\n",
    "    slice_df = pd.read_parquet(f'slice{i}.parquet.gzip')\n",
    "    dfs.append(slice_df)\n",
    "\n",
    "original_df = pd.concat(dfs, axis=1)"
   ]
  },
  {
   "cell_type": "code",
   "execution_count": 162,
   "metadata": {},
   "outputs": [
    {
     "data": {
      "text/html": [
       "<div>\n",
       "<style scoped>\n",
       "    .dataframe tbody tr th:only-of-type {\n",
       "        vertical-align: middle;\n",
       "    }\n",
       "\n",
       "    .dataframe tbody tr th {\n",
       "        vertical-align: top;\n",
       "    }\n",
       "\n",
       "    .dataframe thead th {\n",
       "        text-align: right;\n",
       "    }\n",
       "</style>\n",
       "<table border=\"1\" class=\"dataframe\">\n",
       "  <thead>\n",
       "    <tr style=\"text-align: right;\">\n",
       "      <th></th>\n",
       "      <th>x1</th>\n",
       "      <th>y1</th>\n",
       "      <th>xVel1</th>\n",
       "      <th>yVel1</th>\n",
       "      <th>xA1</th>\n",
       "      <th>yA1</th>\n",
       "      <th>xS1</th>\n",
       "      <th>yS1</th>\n",
       "      <th>xC1</th>\n",
       "      <th>yC1</th>\n",
       "      <th>...</th>\n",
       "      <th>yVel200</th>\n",
       "      <th>xA200</th>\n",
       "      <th>yA200</th>\n",
       "      <th>xS200</th>\n",
       "      <th>yS200</th>\n",
       "      <th>xC200</th>\n",
       "      <th>yC200</th>\n",
       "      <th>nAC200</th>\n",
       "      <th>nS200</th>\n",
       "      <th>Swarm_Behaviour</th>\n",
       "    </tr>\n",
       "  </thead>\n",
       "  <tbody>\n",
       "    <tr>\n",
       "      <th>0</th>\n",
       "      <td>562.05</td>\n",
       "      <td>-0.62</td>\n",
       "      <td>-10.70</td>\n",
       "      <td>-4.33</td>\n",
       "      <td>0.00</td>\n",
       "      <td>0.00</td>\n",
       "      <td>0.0</td>\n",
       "      <td>0.0</td>\n",
       "      <td>0.00</td>\n",
       "      <td>0.00</td>\n",
       "      <td>...</td>\n",
       "      <td>-15.15</td>\n",
       "      <td>0.00</td>\n",
       "      <td>0.00</td>\n",
       "      <td>0.00</td>\n",
       "      <td>0.00</td>\n",
       "      <td>0.00</td>\n",
       "      <td>0.00</td>\n",
       "      <td>28</td>\n",
       "      <td>0</td>\n",
       "      <td>0.0</td>\n",
       "    </tr>\n",
       "    <tr>\n",
       "      <th>1</th>\n",
       "      <td>175.66</td>\n",
       "      <td>-57.09</td>\n",
       "      <td>2.31</td>\n",
       "      <td>-2.67</td>\n",
       "      <td>0.00</td>\n",
       "      <td>0.00</td>\n",
       "      <td>0.0</td>\n",
       "      <td>0.0</td>\n",
       "      <td>0.00</td>\n",
       "      <td>0.00</td>\n",
       "      <td>...</td>\n",
       "      <td>-3.48</td>\n",
       "      <td>0.00</td>\n",
       "      <td>0.00</td>\n",
       "      <td>0.00</td>\n",
       "      <td>0.00</td>\n",
       "      <td>0.00</td>\n",
       "      <td>0.00</td>\n",
       "      <td>4</td>\n",
       "      <td>0</td>\n",
       "      <td>0.0</td>\n",
       "    </tr>\n",
       "    <tr>\n",
       "      <th>2</th>\n",
       "      <td>200.16</td>\n",
       "      <td>-320.07</td>\n",
       "      <td>4.01</td>\n",
       "      <td>-6.37</td>\n",
       "      <td>0.00</td>\n",
       "      <td>0.00</td>\n",
       "      <td>0.0</td>\n",
       "      <td>0.0</td>\n",
       "      <td>0.18</td>\n",
       "      <td>-0.26</td>\n",
       "      <td>...</td>\n",
       "      <td>-9.38</td>\n",
       "      <td>0.00</td>\n",
       "      <td>0.00</td>\n",
       "      <td>0.00</td>\n",
       "      <td>0.00</td>\n",
       "      <td>-0.11</td>\n",
       "      <td>-0.30</td>\n",
       "      <td>15</td>\n",
       "      <td>1</td>\n",
       "      <td>0.0</td>\n",
       "    </tr>\n",
       "    <tr>\n",
       "      <th>3</th>\n",
       "      <td>316.99</td>\n",
       "      <td>-906.84</td>\n",
       "      <td>0.85</td>\n",
       "      <td>9.17</td>\n",
       "      <td>-0.17</td>\n",
       "      <td>1.03</td>\n",
       "      <td>0.0</td>\n",
       "      <td>0.0</td>\n",
       "      <td>0.00</td>\n",
       "      <td>0.00</td>\n",
       "      <td>...</td>\n",
       "      <td>10.39</td>\n",
       "      <td>-0.26</td>\n",
       "      <td>1.01</td>\n",
       "      <td>0.00</td>\n",
       "      <td>0.00</td>\n",
       "      <td>0.00</td>\n",
       "      <td>0.00</td>\n",
       "      <td>16</td>\n",
       "      <td>0</td>\n",
       "      <td>0.0</td>\n",
       "    </tr>\n",
       "    <tr>\n",
       "      <th>4</th>\n",
       "      <td>1277.68</td>\n",
       "      <td>908.54</td>\n",
       "      <td>-2.02</td>\n",
       "      <td>8.23</td>\n",
       "      <td>-1.00</td>\n",
       "      <td>1.00</td>\n",
       "      <td>0.0</td>\n",
       "      <td>0.0</td>\n",
       "      <td>0.00</td>\n",
       "      <td>0.00</td>\n",
       "      <td>...</td>\n",
       "      <td>13.91</td>\n",
       "      <td>-1.00</td>\n",
       "      <td>0.00</td>\n",
       "      <td>3.21</td>\n",
       "      <td>15.67</td>\n",
       "      <td>0.00</td>\n",
       "      <td>0.00</td>\n",
       "      <td>12</td>\n",
       "      <td>0</td>\n",
       "      <td>0.0</td>\n",
       "    </tr>\n",
       "    <tr>\n",
       "      <th>...</th>\n",
       "      <td>...</td>\n",
       "      <td>...</td>\n",
       "      <td>...</td>\n",
       "      <td>...</td>\n",
       "      <td>...</td>\n",
       "      <td>...</td>\n",
       "      <td>...</td>\n",
       "      <td>...</td>\n",
       "      <td>...</td>\n",
       "      <td>...</td>\n",
       "      <td>...</td>\n",
       "      <td>...</td>\n",
       "      <td>...</td>\n",
       "      <td>...</td>\n",
       "      <td>...</td>\n",
       "      <td>...</td>\n",
       "      <td>...</td>\n",
       "      <td>...</td>\n",
       "      <td>...</td>\n",
       "      <td>...</td>\n",
       "      <td>...</td>\n",
       "    </tr>\n",
       "    <tr>\n",
       "      <th>23304</th>\n",
       "      <td>-225.85</td>\n",
       "      <td>128.99</td>\n",
       "      <td>12.19</td>\n",
       "      <td>-7.56</td>\n",
       "      <td>-1.00</td>\n",
       "      <td>0.00</td>\n",
       "      <td>0.0</td>\n",
       "      <td>0.0</td>\n",
       "      <td>0.00</td>\n",
       "      <td>0.00</td>\n",
       "      <td>...</td>\n",
       "      <td>-5.06</td>\n",
       "      <td>-1.00</td>\n",
       "      <td>-1.00</td>\n",
       "      <td>-3.99</td>\n",
       "      <td>0.21</td>\n",
       "      <td>0.00</td>\n",
       "      <td>0.00</td>\n",
       "      <td>17</td>\n",
       "      <td>1</td>\n",
       "      <td>0.0</td>\n",
       "    </tr>\n",
       "    <tr>\n",
       "      <th>23305</th>\n",
       "      <td>-1352.02</td>\n",
       "      <td>-233.03</td>\n",
       "      <td>-0.86</td>\n",
       "      <td>-4.37</td>\n",
       "      <td>-0.07</td>\n",
       "      <td>-0.55</td>\n",
       "      <td>0.0</td>\n",
       "      <td>0.0</td>\n",
       "      <td>0.28</td>\n",
       "      <td>0.02</td>\n",
       "      <td>...</td>\n",
       "      <td>-12.41</td>\n",
       "      <td>-0.15</td>\n",
       "      <td>-0.70</td>\n",
       "      <td>0.00</td>\n",
       "      <td>0.00</td>\n",
       "      <td>0.02</td>\n",
       "      <td>0.07</td>\n",
       "      <td>69</td>\n",
       "      <td>1</td>\n",
       "      <td>0.0</td>\n",
       "    </tr>\n",
       "    <tr>\n",
       "      <th>23306</th>\n",
       "      <td>-1360.61</td>\n",
       "      <td>-778.11</td>\n",
       "      <td>-2.89</td>\n",
       "      <td>-1.17</td>\n",
       "      <td>0.00</td>\n",
       "      <td>0.00</td>\n",
       "      <td>0.0</td>\n",
       "      <td>0.0</td>\n",
       "      <td>0.00</td>\n",
       "      <td>0.00</td>\n",
       "      <td>...</td>\n",
       "      <td>-14.78</td>\n",
       "      <td>0.00</td>\n",
       "      <td>0.00</td>\n",
       "      <td>0.00</td>\n",
       "      <td>0.00</td>\n",
       "      <td>0.00</td>\n",
       "      <td>0.00</td>\n",
       "      <td>20</td>\n",
       "      <td>1</td>\n",
       "      <td>0.0</td>\n",
       "    </tr>\n",
       "    <tr>\n",
       "      <th>23307</th>\n",
       "      <td>987.11</td>\n",
       "      <td>615.69</td>\n",
       "      <td>-5.61</td>\n",
       "      <td>-2.92</td>\n",
       "      <td>-1.00</td>\n",
       "      <td>-1.00</td>\n",
       "      <td>0.0</td>\n",
       "      <td>0.0</td>\n",
       "      <td>0.00</td>\n",
       "      <td>0.00</td>\n",
       "      <td>...</td>\n",
       "      <td>9.78</td>\n",
       "      <td>-1.00</td>\n",
       "      <td>-1.00</td>\n",
       "      <td>0.00</td>\n",
       "      <td>0.00</td>\n",
       "      <td>0.00</td>\n",
       "      <td>0.00</td>\n",
       "      <td>29</td>\n",
       "      <td>0</td>\n",
       "      <td>0.0</td>\n",
       "    </tr>\n",
       "    <tr>\n",
       "      <th>23308</th>\n",
       "      <td>938.12</td>\n",
       "      <td>-924.87</td>\n",
       "      <td>11.18</td>\n",
       "      <td>2.85</td>\n",
       "      <td>0.10</td>\n",
       "      <td>-0.02</td>\n",
       "      <td>0.0</td>\n",
       "      <td>0.0</td>\n",
       "      <td>0.06</td>\n",
       "      <td>0.31</td>\n",
       "      <td>...</td>\n",
       "      <td>-2.90</td>\n",
       "      <td>-0.13</td>\n",
       "      <td>-0.29</td>\n",
       "      <td>1.31</td>\n",
       "      <td>0.38</td>\n",
       "      <td>0.00</td>\n",
       "      <td>0.00</td>\n",
       "      <td>2</td>\n",
       "      <td>1</td>\n",
       "      <td>0.0</td>\n",
       "    </tr>\n",
       "  </tbody>\n",
       "</table>\n",
       "<p>23309 rows × 2401 columns</p>\n",
       "</div>"
      ],
      "text/plain": [
       "            x1      y1  xVel1  yVel1   xA1   yA1  xS1  yS1   xC1   yC1  ...  \\\n",
       "0       562.05   -0.62 -10.70  -4.33  0.00  0.00  0.0  0.0  0.00  0.00  ...   \n",
       "1       175.66  -57.09   2.31  -2.67  0.00  0.00  0.0  0.0  0.00  0.00  ...   \n",
       "2       200.16 -320.07   4.01  -6.37  0.00  0.00  0.0  0.0  0.18 -0.26  ...   \n",
       "3       316.99 -906.84   0.85   9.17 -0.17  1.03  0.0  0.0  0.00  0.00  ...   \n",
       "4      1277.68  908.54  -2.02   8.23 -1.00  1.00  0.0  0.0  0.00  0.00  ...   \n",
       "...        ...     ...    ...    ...   ...   ...  ...  ...   ...   ...  ...   \n",
       "23304  -225.85  128.99  12.19  -7.56 -1.00  0.00  0.0  0.0  0.00  0.00  ...   \n",
       "23305 -1352.02 -233.03  -0.86  -4.37 -0.07 -0.55  0.0  0.0  0.28  0.02  ...   \n",
       "23306 -1360.61 -778.11  -2.89  -1.17  0.00  0.00  0.0  0.0  0.00  0.00  ...   \n",
       "23307   987.11  615.69  -5.61  -2.92 -1.00 -1.00  0.0  0.0  0.00  0.00  ...   \n",
       "23308   938.12 -924.87  11.18   2.85  0.10 -0.02  0.0  0.0  0.06  0.31  ...   \n",
       "\n",
       "       yVel200  xA200  yA200  xS200  yS200  xC200  yC200  nAC200  nS200  \\\n",
       "0       -15.15   0.00   0.00   0.00   0.00   0.00   0.00      28      0   \n",
       "1        -3.48   0.00   0.00   0.00   0.00   0.00   0.00       4      0   \n",
       "2        -9.38   0.00   0.00   0.00   0.00  -0.11  -0.30      15      1   \n",
       "3        10.39  -0.26   1.01   0.00   0.00   0.00   0.00      16      0   \n",
       "4        13.91  -1.00   0.00   3.21  15.67   0.00   0.00      12      0   \n",
       "...        ...    ...    ...    ...    ...    ...    ...     ...    ...   \n",
       "23304    -5.06  -1.00  -1.00  -3.99   0.21   0.00   0.00      17      1   \n",
       "23305   -12.41  -0.15  -0.70   0.00   0.00   0.02   0.07      69      1   \n",
       "23306   -14.78   0.00   0.00   0.00   0.00   0.00   0.00      20      1   \n",
       "23307     9.78  -1.00  -1.00   0.00   0.00   0.00   0.00      29      0   \n",
       "23308    -2.90  -0.13  -0.29   1.31   0.38   0.00   0.00       2      1   \n",
       "\n",
       "       Swarm_Behaviour  \n",
       "0                  0.0  \n",
       "1                  0.0  \n",
       "2                  0.0  \n",
       "3                  0.0  \n",
       "4                  0.0  \n",
       "...                ...  \n",
       "23304              0.0  \n",
       "23305              0.0  \n",
       "23306              0.0  \n",
       "23307              0.0  \n",
       "23308              0.0  \n",
       "\n",
       "[23309 rows x 2401 columns]"
      ]
     },
     "execution_count": 162,
     "metadata": {},
     "output_type": "execute_result"
    }
   ],
   "source": [
    "original_df"
   ]
  },
  {
   "cell_type": "code",
   "execution_count": 163,
   "metadata": {},
   "outputs": [],
   "source": [
    "df = original_df.reset_index().rename(columns={\"index\": \"id\"})\n",
    "COLS = [\"id\", 'x', 'y', 'xVel', 'yVel', 'xA', 'yA', 'xS', 'yS', 'xC', 'yC', 'nAC', 'nS']\n",
    "N_BOIDS = 200\n",
    "INT_DIGITS = 3"
   ]
  },
  {
   "cell_type": "code",
   "execution_count": 164,
   "metadata": {},
   "outputs": [],
   "source": [
    "target = df[[\"id\", \"Swarm_Behaviour\"]].astype(int)\n",
    "df = df.drop(\"Swarm_Behaviour\", axis=1)"
   ]
  },
  {
   "cell_type": "code",
   "execution_count": 165,
   "metadata": {},
   "outputs": [
    {
     "data": {
      "text/plain": [
       "<Axes: xlabel='Swarm_Behaviour'>"
      ]
     },
     "execution_count": 165,
     "metadata": {},
     "output_type": "execute_result"
    },
    {
     "data": {
      "image/png": "[encoded data removed]",
      "text/plain": [
       "<Figure size 640x480 with 1 Axes>"
      ]
     },
     "metadata": {},
     "output_type": "display_data"
    }
   ],
   "source": [
    "target.Swarm_Behaviour.value_counts().plot.bar(width=0.3)"
   ]
  },
  {
   "cell_type": "code",
   "execution_count": 166,
   "metadata": {},
   "outputs": [
    {
     "data": {
      "text/plain": [
       "0        0\n",
       "1        0\n",
       "2        0\n",
       "3        0\n",
       "4        0\n",
       "        ..\n",
       "23304    0\n",
       "23305    0\n",
       "23306    0\n",
       "23307    0\n",
       "23308    0\n",
       "Name: Swarm_Behaviour, Length: 23309, dtype: int64"
      ]
     },
     "execution_count": 166,
     "metadata": {},
     "output_type": "execute_result"
    }
   ],
   "source": [
    "target.Swarm_Behaviour"
   ]
  },
  {
   "cell_type": "code",
   "execution_count": 167,
   "metadata": {},
   "outputs": [],
   "source": [
    "zeroes = target[target.Swarm_Behaviour == 0].index\n",
    "ones = target[target.Swarm_Behaviour == 1].index\n",
    "filtered_zeroes = np.random.choice(zeroes, 8000, False)"
   ]
  },
  {
   "cell_type": "code",
   "execution_count": 168,
   "metadata": {},
   "outputs": [],
   "source": [
    "target = target[target.index.isin(filtered_zeroes) | target.index.isin(ones)].reset_index(drop=True)\n",
    "df = df[df.index.isin(filtered_zeroes) | df.index.isin(ones)].reset_index(drop=True)"
   ]
  },
  {
   "cell_type": "code",
   "execution_count": 169,
   "metadata": {},
   "outputs": [
    {
     "data": {
      "text/html": [
       "<div>\n",
       "<style scoped>\n",
       "    .dataframe tbody tr th:only-of-type {\n",
       "        vertical-align: middle;\n",
       "    }\n",
       "\n",
       "    .dataframe tbody tr th {\n",
       "        vertical-align: top;\n",
       "    }\n",
       "\n",
       "    .dataframe thead th {\n",
       "        text-align: right;\n",
       "    }\n",
       "</style>\n",
       "<table border=\"1\" class=\"dataframe\">\n",
       "  <thead>\n",
       "    <tr style=\"text-align: right;\">\n",
       "      <th></th>\n",
       "      <th>id</th>\n",
       "      <th>Swarm_Behaviour</th>\n",
       "    </tr>\n",
       "  </thead>\n",
       "  <tbody>\n",
       "    <tr>\n",
       "      <th>0</th>\n",
       "      <td>0</td>\n",
       "      <td>0</td>\n",
       "    </tr>\n",
       "    <tr>\n",
       "      <th>1</th>\n",
       "      <td>2</td>\n",
       "      <td>0</td>\n",
       "    </tr>\n",
       "    <tr>\n",
       "      <th>2</th>\n",
       "      <td>3</td>\n",
       "      <td>0</td>\n",
       "    </tr>\n",
       "    <tr>\n",
       "      <th>3</th>\n",
       "      <td>4</td>\n",
       "      <td>0</td>\n",
       "    </tr>\n",
       "    <tr>\n",
       "      <th>4</th>\n",
       "      <td>6</td>\n",
       "      <td>0</td>\n",
       "    </tr>\n",
       "  </tbody>\n",
       "</table>\n",
       "</div>"
      ],
      "text/plain": [
       "   id  Swarm_Behaviour\n",
       "0   0                0\n",
       "1   2                0\n",
       "2   3                0\n",
       "3   4                0\n",
       "4   6                0"
      ]
     },
     "execution_count": 169,
     "metadata": {},
     "output_type": "execute_result"
    }
   ],
   "source": [
    "target.head(5)"
   ]
  },
  {
   "cell_type": "code",
   "execution_count": 170,
   "metadata": {},
   "outputs": [
    {
     "data": {
      "text/html": [
       "<div>\n",
       "<style scoped>\n",
       "    .dataframe tbody tr th:only-of-type {\n",
       "        vertical-align: middle;\n",
       "    }\n",
       "\n",
       "    .dataframe tbody tr th {\n",
       "        vertical-align: top;\n",
       "    }\n",
       "\n",
       "    .dataframe thead th {\n",
       "        text-align: right;\n",
       "    }\n",
       "</style>\n",
       "<table border=\"1\" class=\"dataframe\">\n",
       "  <thead>\n",
       "    <tr style=\"text-align: right;\">\n",
       "      <th></th>\n",
       "      <th>id</th>\n",
       "      <th>x1</th>\n",
       "      <th>y1</th>\n",
       "      <th>xVel1</th>\n",
       "      <th>yVel1</th>\n",
       "      <th>xA1</th>\n",
       "      <th>yA1</th>\n",
       "      <th>xS1</th>\n",
       "      <th>yS1</th>\n",
       "      <th>xC1</th>\n",
       "      <th>...</th>\n",
       "      <th>xVel200</th>\n",
       "      <th>yVel200</th>\n",
       "      <th>xA200</th>\n",
       "      <th>yA200</th>\n",
       "      <th>xS200</th>\n",
       "      <th>yS200</th>\n",
       "      <th>xC200</th>\n",
       "      <th>yC200</th>\n",
       "      <th>nAC200</th>\n",
       "      <th>nS200</th>\n",
       "    </tr>\n",
       "  </thead>\n",
       "  <tbody>\n",
       "    <tr>\n",
       "      <th>0</th>\n",
       "      <td>0</td>\n",
       "      <td>562.05</td>\n",
       "      <td>-0.62</td>\n",
       "      <td>-10.70</td>\n",
       "      <td>-4.33</td>\n",
       "      <td>0.00</td>\n",
       "      <td>0.00</td>\n",
       "      <td>0.0</td>\n",
       "      <td>0.0</td>\n",
       "      <td>0.00</td>\n",
       "      <td>...</td>\n",
       "      <td>-8.04</td>\n",
       "      <td>-15.15</td>\n",
       "      <td>0.00</td>\n",
       "      <td>0.00</td>\n",
       "      <td>0.00</td>\n",
       "      <td>0.00</td>\n",
       "      <td>0.00</td>\n",
       "      <td>0.0</td>\n",
       "      <td>28</td>\n",
       "      <td>0</td>\n",
       "    </tr>\n",
       "    <tr>\n",
       "      <th>1</th>\n",
       "      <td>2</td>\n",
       "      <td>200.16</td>\n",
       "      <td>-320.07</td>\n",
       "      <td>4.01</td>\n",
       "      <td>-6.37</td>\n",
       "      <td>0.00</td>\n",
       "      <td>0.00</td>\n",
       "      <td>0.0</td>\n",
       "      <td>0.0</td>\n",
       "      <td>0.18</td>\n",
       "      <td>...</td>\n",
       "      <td>-8.02</td>\n",
       "      <td>-9.38</td>\n",
       "      <td>0.00</td>\n",
       "      <td>0.00</td>\n",
       "      <td>0.00</td>\n",
       "      <td>0.00</td>\n",
       "      <td>-0.11</td>\n",
       "      <td>-0.3</td>\n",
       "      <td>15</td>\n",
       "      <td>1</td>\n",
       "    </tr>\n",
       "    <tr>\n",
       "      <th>2</th>\n",
       "      <td>3</td>\n",
       "      <td>316.99</td>\n",
       "      <td>-906.84</td>\n",
       "      <td>0.85</td>\n",
       "      <td>9.17</td>\n",
       "      <td>-0.17</td>\n",
       "      <td>1.03</td>\n",
       "      <td>0.0</td>\n",
       "      <td>0.0</td>\n",
       "      <td>0.00</td>\n",
       "      <td>...</td>\n",
       "      <td>-3.44</td>\n",
       "      <td>10.39</td>\n",
       "      <td>-0.26</td>\n",
       "      <td>1.01</td>\n",
       "      <td>0.00</td>\n",
       "      <td>0.00</td>\n",
       "      <td>0.00</td>\n",
       "      <td>0.0</td>\n",
       "      <td>16</td>\n",
       "      <td>0</td>\n",
       "    </tr>\n",
       "    <tr>\n",
       "      <th>3</th>\n",
       "      <td>4</td>\n",
       "      <td>1277.68</td>\n",
       "      <td>908.54</td>\n",
       "      <td>-2.02</td>\n",
       "      <td>8.23</td>\n",
       "      <td>-1.00</td>\n",
       "      <td>1.00</td>\n",
       "      <td>0.0</td>\n",
       "      <td>0.0</td>\n",
       "      <td>0.00</td>\n",
       "      <td>...</td>\n",
       "      <td>10.49</td>\n",
       "      <td>13.91</td>\n",
       "      <td>-1.00</td>\n",
       "      <td>0.00</td>\n",
       "      <td>3.21</td>\n",
       "      <td>15.67</td>\n",
       "      <td>0.00</td>\n",
       "      <td>0.0</td>\n",
       "      <td>12</td>\n",
       "      <td>0</td>\n",
       "    </tr>\n",
       "    <tr>\n",
       "      <th>4</th>\n",
       "      <td>6</td>\n",
       "      <td>608.66</td>\n",
       "      <td>997.24</td>\n",
       "      <td>11.84</td>\n",
       "      <td>2.77</td>\n",
       "      <td>0.31</td>\n",
       "      <td>-0.08</td>\n",
       "      <td>0.0</td>\n",
       "      <td>0.0</td>\n",
       "      <td>0.00</td>\n",
       "      <td>...</td>\n",
       "      <td>-8.98</td>\n",
       "      <td>-2.67</td>\n",
       "      <td>-0.04</td>\n",
       "      <td>-0.09</td>\n",
       "      <td>0.00</td>\n",
       "      <td>0.00</td>\n",
       "      <td>-0.03</td>\n",
       "      <td>0.0</td>\n",
       "      <td>3</td>\n",
       "      <td>1</td>\n",
       "    </tr>\n",
       "  </tbody>\n",
       "</table>\n",
       "<p>5 rows × 2401 columns</p>\n",
       "</div>"
      ],
      "text/plain": [
       "   id       x1      y1  xVel1  yVel1   xA1   yA1  xS1  yS1   xC1  ...  \\\n",
       "0   0   562.05   -0.62 -10.70  -4.33  0.00  0.00  0.0  0.0  0.00  ...   \n",
       "1   2   200.16 -320.07   4.01  -6.37  0.00  0.00  0.0  0.0  0.18  ...   \n",
       "2   3   316.99 -906.84   0.85   9.17 -0.17  1.03  0.0  0.0  0.00  ...   \n",
       "3   4  1277.68  908.54  -2.02   8.23 -1.00  1.00  0.0  0.0  0.00  ...   \n",
       "4   6   608.66  997.24  11.84   2.77  0.31 -0.08  0.0  0.0  0.00  ...   \n",
       "\n",
       "   xVel200  yVel200  xA200  yA200  xS200  yS200  xC200  yC200  nAC200  nS200  \n",
       "0    -8.04   -15.15   0.00   0.00   0.00   0.00   0.00    0.0      28      0  \n",
       "1    -8.02    -9.38   0.00   0.00   0.00   0.00  -0.11   -0.3      15      1  \n",
       "2    -3.44    10.39  -0.26   1.01   0.00   0.00   0.00    0.0      16      0  \n",
       "3    10.49    13.91  -1.00   0.00   3.21  15.67   0.00    0.0      12      0  \n",
       "4    -8.98    -2.67  -0.04  -0.09   0.00   0.00  -0.03    0.0       3      1  \n",
       "\n",
       "[5 rows x 2401 columns]"
      ]
     },
     "execution_count": 170,
     "metadata": {},
     "output_type": "execute_result"
    }
   ],
   "source": [
    "df.head(5)"
   ]
  },
  {
   "cell_type": "code",
   "execution_count": 171,
   "metadata": {},
   "outputs": [
    {
     "data": {
      "text/plain": [
       "<Axes: xlabel='Swarm_Behaviour'>"
      ]
     },
     "execution_count": 171,
     "metadata": {},
     "output_type": "execute_result"
    },
    {
     "data": {
      "image/png": "[encoded data removed]",
      "text/plain": [
       "<Figure size 640x480 with 1 Axes>"
      ]
     },
     "metadata": {},
     "output_type": "display_data"
    }
   ],
   "source": [
    "target.Swarm_Behaviour.value_counts().plot.bar(width=0.3)"
   ]
  },
  {
   "cell_type": "code",
   "execution_count": 172,
   "metadata": {},
   "outputs": [],
   "source": [
    "# changes column string formatting\n",
    "reformatted_cols = [\"id\"] + [f\"{COLS[i]}_{j:0{INT_DIGITS}}\" for j in range(1, N_BOIDS+1) for i in range(1, len(COLS))]\n",
    "df.columns = reformatted_cols"
   ]
  },
  {
   "cell_type": "code",
   "execution_count": 173,
   "metadata": {},
   "outputs": [
    {
     "data": {
      "text/html": [
       "<div>\n",
       "<style scoped>\n",
       "    .dataframe tbody tr th:only-of-type {\n",
       "        vertical-align: middle;\n",
       "    }\n",
       "\n",
       "    .dataframe tbody tr th {\n",
       "        vertical-align: top;\n",
       "    }\n",
       "\n",
       "    .dataframe thead th {\n",
       "        text-align: right;\n",
       "    }\n",
       "</style>\n",
       "<table border=\"1\" class=\"dataframe\">\n",
       "  <thead>\n",
       "    <tr style=\"text-align: right;\">\n",
       "      <th></th>\n",
       "      <th>id</th>\n",
       "      <th>x_001</th>\n",
       "      <th>y_001</th>\n",
       "      <th>xVel_001</th>\n",
       "      <th>yVel_001</th>\n",
       "      <th>xA_001</th>\n",
       "      <th>yA_001</th>\n",
       "      <th>xS_001</th>\n",
       "      <th>yS_001</th>\n",
       "      <th>xC_001</th>\n",
       "      <th>...</th>\n",
       "      <th>xVel_200</th>\n",
       "      <th>yVel_200</th>\n",
       "      <th>xA_200</th>\n",
       "      <th>yA_200</th>\n",
       "      <th>xS_200</th>\n",
       "      <th>yS_200</th>\n",
       "      <th>xC_200</th>\n",
       "      <th>yC_200</th>\n",
       "      <th>nAC_200</th>\n",
       "      <th>nS_200</th>\n",
       "    </tr>\n",
       "  </thead>\n",
       "  <tbody>\n",
       "    <tr>\n",
       "      <th>0</th>\n",
       "      <td>0</td>\n",
       "      <td>562.05</td>\n",
       "      <td>-0.62</td>\n",
       "      <td>-10.70</td>\n",
       "      <td>-4.33</td>\n",
       "      <td>0.0</td>\n",
       "      <td>0.0</td>\n",
       "      <td>0.0</td>\n",
       "      <td>0.0</td>\n",
       "      <td>0.00</td>\n",
       "      <td>...</td>\n",
       "      <td>-8.04</td>\n",
       "      <td>-15.15</td>\n",
       "      <td>0.0</td>\n",
       "      <td>0.0</td>\n",
       "      <td>0.0</td>\n",
       "      <td>0.0</td>\n",
       "      <td>0.00</td>\n",
       "      <td>0.0</td>\n",
       "      <td>28</td>\n",
       "      <td>0</td>\n",
       "    </tr>\n",
       "    <tr>\n",
       "      <th>1</th>\n",
       "      <td>2</td>\n",
       "      <td>200.16</td>\n",
       "      <td>-320.07</td>\n",
       "      <td>4.01</td>\n",
       "      <td>-6.37</td>\n",
       "      <td>0.0</td>\n",
       "      <td>0.0</td>\n",
       "      <td>0.0</td>\n",
       "      <td>0.0</td>\n",
       "      <td>0.18</td>\n",
       "      <td>...</td>\n",
       "      <td>-8.02</td>\n",
       "      <td>-9.38</td>\n",
       "      <td>0.0</td>\n",
       "      <td>0.0</td>\n",
       "      <td>0.0</td>\n",
       "      <td>0.0</td>\n",
       "      <td>-0.11</td>\n",
       "      <td>-0.3</td>\n",
       "      <td>15</td>\n",
       "      <td>1</td>\n",
       "    </tr>\n",
       "  </tbody>\n",
       "</table>\n",
       "<p>2 rows × 2401 columns</p>\n",
       "</div>"
      ],
      "text/plain": [
       "   id   x_001   y_001  xVel_001  yVel_001  xA_001  yA_001  xS_001  yS_001  \\\n",
       "0   0  562.05   -0.62    -10.70     -4.33     0.0     0.0     0.0     0.0   \n",
       "1   2  200.16 -320.07      4.01     -6.37     0.0     0.0     0.0     0.0   \n",
       "\n",
       "   xC_001  ...  xVel_200  yVel_200  xA_200  yA_200  xS_200  yS_200  xC_200  \\\n",
       "0    0.00  ...     -8.04    -15.15     0.0     0.0     0.0     0.0    0.00   \n",
       "1    0.18  ...     -8.02     -9.38     0.0     0.0     0.0     0.0   -0.11   \n",
       "\n",
       "   yC_200  nAC_200  nS_200  \n",
       "0     0.0       28       0  \n",
       "1    -0.3       15       1  \n",
       "\n",
       "[2 rows x 2401 columns]"
      ]
     },
     "execution_count": 173,
     "metadata": {},
     "output_type": "execute_result"
    }
   ],
   "source": [
    "df.head(2)"
   ]
  },
  {
   "cell_type": "code",
   "execution_count": 174,
   "metadata": {},
   "outputs": [],
   "source": [
    "melted = df.melt(id_vars=\"id\")\n",
    "variable_raw = melted.variable.copy()\n",
    "melted[\"variable\"] = variable_raw.apply(lambda string: string.split(\"_\")[0])\n",
    "melted[\"boid\"] = variable_raw.apply(lambda string: string.split(\"_\")[1]).astype(int)"
   ]
  },
  {
   "cell_type": "code",
   "execution_count": 175,
   "metadata": {},
   "outputs": [],
   "source": [
    "variables = melted.variable.unique()\n",
    "means = melted.groupby([\"id\", \"variable\"]).value.mean().unstack()\n",
    "means.columns = [f\"{col}_mean\" for col in variables]\n",
    "\n",
    "stds = melted.groupby([\"id\", \"variable\"]).value.std().unstack()\n",
    "stds.columns = [f\"{col}_std\" for col in variables]\n"
   ]
  },
  {
   "cell_type": "code",
   "execution_count": 176,
   "metadata": {},
   "outputs": [],
   "source": [
    "features = pd.concat([means, stds], axis=1)"
   ]
  },
  {
   "cell_type": "code",
   "execution_count": 177,
   "metadata": {},
   "outputs": [
    {
     "data": {
      "text/plain": [
       "<Axes: >"
      ]
     },
     "execution_count": 177,
     "metadata": {},
     "output_type": "execute_result"
    },
    {
     "data": {
      "image/png": "[encoded data removed]",
      "text/plain": [
       "<Figure size 640x480 with 2 Axes>"
      ]
     },
     "metadata": {},
     "output_type": "display_data"
    }
   ],
   "source": [
    "sns.heatmap(features.corr())"
   ]
  },
  {
   "cell_type": "code",
   "execution_count": 178,
   "metadata": {},
   "outputs": [],
   "source": [
    "# possible features\n",
    "# xS, yS, xA, yA, xC, yC\n",
    "# which way the birds are looking (angle, derived from velocity)\n",
    "\n",
    "\n",
    "# how do we aggregate these features?\n",
    "\n",
    "# how wide an arc encompasses all the birds direction?\n",
    "# area of the box encompassing all the birds x,y coords\n",
    "# ranges of the x and y velocities\n",
    "\n",
    " \n",
    "\n",
    "# in principle we are taking information from a distribution (n=200)"
   ]
  },
  {
   "cell_type": "code",
   "execution_count": 179,
   "metadata": {},
   "outputs": [
    {
     "data": {
      "text/plain": [
       "<Axes: xlabel='xVel', ylabel='yVel'>"
      ]
     },
     "execution_count": 179,
     "metadata": {},
     "output_type": "execute_result"
    },
    {
     "data": {
      "image/png": "[encoded data removed]",
      "text/plain": [
       "<Figure size 640x480 with 1 Axes>"
      ]
     },
     "metadata": {},
     "output_type": "display_data"
    }
   ],
   "source": [
    "\n",
    "\n",
    "# plotting features together\n",
    "\n",
    "# picking an id (experiment)\n",
    "a = melted[melted['id'] == 90] # target = 1\n",
    "\n",
    "# picking an x and y feature\n",
    "var1 = \"xVel\"\n",
    "var2 = \"yVel\"\n",
    "b = a[a.variable.isin({var1, var2})]\n",
    "\n",
    "xs = b[b.variable == var1].value.reset_index(drop=True)\n",
    "ys = b[b.variable == var2].value.reset_index(drop=True)\n",
    "locations = pd.DataFrame()\n",
    "locations[var1] = xs\n",
    "locations[var2] = ys\n",
    "\n",
    "plt.Figure()\n",
    "locations.plot.scatter(var1, var2, s=1)"
   ]
  },
  {
   "cell_type": "code",
   "execution_count": 180,
   "metadata": {},
   "outputs": [],
   "source": [
    "x = melted[melted.variable == \"x\"]\n",
    "y = melted[melted.variable == \"y\"]\n",
    "xVel = melted[melted.variable == \"xVel\"]\n",
    "yVel = melted[melted.variable == \"yVel\"]"
   ]
  },
  {
   "cell_type": "code",
   "execution_count": 181,
   "metadata": {},
   "outputs": [],
   "source": [
    "location = x.merge(y, on=[\"id\", \"boid\"]).drop([\"variable_x\", \"variable_y\"], axis=1)\n",
    "vels =  xVel.merge(yVel, on=[\"id\", \"boid\"]).drop([\"variable_x\", \"variable_y\"], axis=1)"
   ]
  },
  {
   "cell_type": "code",
   "execution_count": 182,
   "metadata": {},
   "outputs": [],
   "source": [
    "vels[\"angle1\"] = 180 / np.pi * np.arctan2(vels.value_x, vels.value_y)\n",
    "vels[\"angle2\"] = vels[\"angle1\"].apply(lambda x: x + 360 if x < 0 else x)"
   ]
  },
  {
   "cell_type": "code",
   "execution_count": 183,
   "metadata": {},
   "outputs": [],
   "source": [
    "a1 = vels.groupby([\"id\"]).angle1\n",
    "a2 = vels.groupby([\"id\"]).angle2\n",
    "\n",
    "a1_range = a1.max() - a1.min()\n",
    "a2_range  = a2.max() - a2.min()\n",
    "\n",
    "angle_range = np.minimum(a1_range, a2_range)"
   ]
  },
  {
   "cell_type": "code",
   "execution_count": 184,
   "metadata": {},
   "outputs": [
    {
     "data": {
      "text/plain": [
       "id\n",
       "0        350.776639\n",
       "2        356.459202\n",
       "3         90.210745\n",
       "4        352.510045\n",
       "6        353.576642\n",
       "            ...    \n",
       "23299    344.314936\n",
       "23302     43.949757\n",
       "23304    349.989500\n",
       "23305    322.689350\n",
       "23307    350.082281\n",
       "Length: 15954, dtype: float64"
      ]
     },
     "execution_count": 184,
     "metadata": {},
     "output_type": "execute_result"
    }
   ],
   "source": [
    "# a feature!\n",
    "angle_range"
   ]
  },
  {
   "cell_type": "code",
   "execution_count": 185,
   "metadata": {},
   "outputs": [
    {
     "data": {
      "text/html": [
       "<div>\n",
       "<style scoped>\n",
       "    .dataframe tbody tr th:only-of-type {\n",
       "        vertical-align: middle;\n",
       "    }\n",
       "\n",
       "    .dataframe tbody tr th {\n",
       "        vertical-align: top;\n",
       "    }\n",
       "\n",
       "    .dataframe thead th {\n",
       "        text-align: right;\n",
       "    }\n",
       "</style>\n",
       "<table border=\"1\" class=\"dataframe\">\n",
       "  <thead>\n",
       "    <tr style=\"text-align: right;\">\n",
       "      <th></th>\n",
       "      <th>id</th>\n",
       "      <th>Swarm_Behaviour</th>\n",
       "    </tr>\n",
       "  </thead>\n",
       "  <tbody>\n",
       "    <tr>\n",
       "      <th>0</th>\n",
       "      <td>0</td>\n",
       "      <td>0</td>\n",
       "    </tr>\n",
       "    <tr>\n",
       "      <th>1</th>\n",
       "      <td>2</td>\n",
       "      <td>0</td>\n",
       "    </tr>\n",
       "    <tr>\n",
       "      <th>2</th>\n",
       "      <td>3</td>\n",
       "      <td>0</td>\n",
       "    </tr>\n",
       "    <tr>\n",
       "      <th>3</th>\n",
       "      <td>4</td>\n",
       "      <td>0</td>\n",
       "    </tr>\n",
       "    <tr>\n",
       "      <th>4</th>\n",
       "      <td>6</td>\n",
       "      <td>0</td>\n",
       "    </tr>\n",
       "    <tr>\n",
       "      <th>...</th>\n",
       "      <td>...</td>\n",
       "      <td>...</td>\n",
       "    </tr>\n",
       "    <tr>\n",
       "      <th>15949</th>\n",
       "      <td>23299</td>\n",
       "      <td>0</td>\n",
       "    </tr>\n",
       "    <tr>\n",
       "      <th>15950</th>\n",
       "      <td>23302</td>\n",
       "      <td>1</td>\n",
       "    </tr>\n",
       "    <tr>\n",
       "      <th>15951</th>\n",
       "      <td>23304</td>\n",
       "      <td>0</td>\n",
       "    </tr>\n",
       "    <tr>\n",
       "      <th>15952</th>\n",
       "      <td>23305</td>\n",
       "      <td>0</td>\n",
       "    </tr>\n",
       "    <tr>\n",
       "      <th>15953</th>\n",
       "      <td>23307</td>\n",
       "      <td>0</td>\n",
       "    </tr>\n",
       "  </tbody>\n",
       "</table>\n",
       "<p>15954 rows × 2 columns</p>\n",
       "</div>"
      ],
      "text/plain": [
       "          id  Swarm_Behaviour\n",
       "0          0                0\n",
       "1          2                0\n",
       "2          3                0\n",
       "3          4                0\n",
       "4          6                0\n",
       "...      ...              ...\n",
       "15949  23299                0\n",
       "15950  23302                1\n",
       "15951  23304                0\n",
       "15952  23305                0\n",
       "15953  23307                0\n",
       "\n",
       "[15954 rows x 2 columns]"
      ]
     },
     "execution_count": 185,
     "metadata": {},
     "output_type": "execute_result"
    }
   ],
   "source": [
    "target"
   ]
  },
  {
   "cell_type": "code",
   "execution_count": 186,
   "metadata": {},
   "outputs": [
    {
     "data": {
      "text/plain": [
       "<Axes: >"
      ]
     },
     "execution_count": 186,
     "metadata": {},
     "output_type": "execute_result"
    },
    {
     "data": {
      "image/png": "[encoded data removed]",
      "text/plain": [
       "<Figure size 640x480 with 1 Axes>"
      ]
     },
     "metadata": {},
     "output_type": "display_data"
    }
   ],
   "source": [
    "angle_range.reset_index(drop=True)[target.Swarm_Behaviour == 1].hist()"
   ]
  },
  {
   "cell_type": "code",
   "execution_count": 187,
   "metadata": {},
   "outputs": [
    {
     "data": {
      "text/plain": [
       "<Axes: >"
      ]
     },
     "execution_count": 187,
     "metadata": {},
     "output_type": "execute_result"
    },
    {
     "data": {
      "image/png": "[encoded data removed]",
      "text/plain": [
       "<Figure size 640x480 with 1 Axes>"
      ]
     },
     "metadata": {},
     "output_type": "display_data"
    }
   ],
   "source": [
    "angle_range.reset_index(drop=True)[target.Swarm_Behaviour == 0].hist()"
   ]
  },
  {
   "cell_type": "code",
   "execution_count": 188,
   "metadata": {},
   "outputs": [
    {
     "data": {
      "text/plain": [
       "<pandas.core.groupby.generic.SeriesGroupBy object at 0x7ff1d4684d30>"
      ]
     },
     "execution_count": 188,
     "metadata": {},
     "output_type": "execute_result"
    }
   ],
   "source": [
    "vels.groupby([\"id\"]).angle1"
   ]
  },
  {
   "cell_type": "code",
   "execution_count": 189,
   "metadata": {},
   "outputs": [
    {
     "data": {
      "text/plain": [
       "6.80637105856642"
      ]
     },
     "execution_count": 189,
     "metadata": {},
     "output_type": "execute_result"
    }
   ],
   "source": [
    "angles1 = pd.Series(180 / np.pi * np.arctan2(xs, ys))\n",
    "angles2 = angles1.apply(lambda x: x + 360 if x < 0 else x)\n",
    "\n",
    "angles_range = min(angles2.max() - angles2.min(), angles1.max() - angles1.min())\n",
    "angles_range"
   ]
  },
  {
   "cell_type": "code",
   "execution_count": 190,
   "metadata": {},
   "outputs": [
    {
     "data": {
      "text/plain": [
       "<Axes: xlabel='value'>"
      ]
     },
     "execution_count": 190,
     "metadata": {},
     "output_type": "execute_result"
    },
    {
     "data": {
      "image/png": "[encoded data removed]",
      "text/plain": [
       "<Figure size 640x480 with 1 Axes>"
      ]
     },
     "metadata": {},
     "output_type": "display_data"
    }
   ],
   "source": [
    "a[a.variable == \"nAC\"].value.astype(int).value_counts().sort_index().plot.bar()"
   ]
  },
  {
   "cell_type": "code",
   "execution_count": 191,
   "metadata": {},
   "outputs": [
    {
     "data": {
      "text/plain": [
       "0.15254237288135594"
      ]
     },
     "execution_count": 191,
     "metadata": {},
     "output_type": "execute_result"
    }
   ],
   "source": [
    "diffs = a[a.variable == \"nAC\"].value.astype(int).value_counts().sort_index().diff()\n",
    "\n",
    "abs(diffs.sum()) / diffs.abs().sum()"
   ]
  },
  {
   "cell_type": "code",
   "execution_count": 192,
   "metadata": {},
   "outputs": [
    {
     "data": {
      "text/plain": [
       "<Axes: >"
      ]
     },
     "execution_count": 192,
     "metadata": {},
     "output_type": "execute_result"
    },
    {
     "data": {
      "image/png": "[encoded data removed]",
      "text/plain": [
       "<Figure size 640x480 with 1 Axes>"
      ]
     },
     "metadata": {},
     "output_type": "display_data"
    }
   ],
   "source": [
    "plt.Figure()\n",
    "((xs**2 + ys**2) ** 0.5).hist()"
   ]
  },
  {
   "cell_type": "code",
   "execution_count": 193,
   "metadata": {},
   "outputs": [],
   "source": [
    "# need the id and the boid numbers\n",
    "x = melted[melted.variable == \"xS\"]\n",
    "y = melted[melted.variable == \"yS\"]"
   ]
  },
  {
   "cell_type": "code",
   "execution_count": 194,
   "metadata": {},
   "outputs": [],
   "source": [
    "new = x.merge(y, on=[\"id\", \"boid\"])"
   ]
  },
  {
   "cell_type": "code",
   "execution_count": 195,
   "metadata": {},
   "outputs": [],
   "source": [
    "new[\"d\"] = (new.value_x ** 2 + new.value_y**2) ** 0.5"
   ]
  },
  {
   "cell_type": "code",
   "execution_count": 196,
   "metadata": {},
   "outputs": [
    {
     "data": {
      "text/plain": [
       "count    7954.000000\n",
       "mean        5.381640\n",
       "std        45.943900\n",
       "min         0.000000\n",
       "25%         0.000000\n",
       "50%         0.445272\n",
       "75%         0.737385\n",
       "max      2247.631218\n",
       "Name: d, dtype: float64"
      ]
     },
     "execution_count": 196,
     "metadata": {},
     "output_type": "execute_result"
    }
   ],
   "source": [
    "new.groupby(\"id\").d.std().reset_index(drop=True)[target.Swarm_Behaviour == 1].describe()"
   ]
  },
  {
   "cell_type": "code",
   "execution_count": 197,
   "metadata": {},
   "outputs": [
    {
     "data": {
      "text/plain": [
       "count      8000.000000\n",
       "mean       1076.360716\n",
       "std       12285.643838\n",
       "min           0.000000\n",
       "25%           0.218695\n",
       "50%           0.988450\n",
       "75%           6.195666\n",
       "max      297076.109288\n",
       "Name: d, dtype: float64"
      ]
     },
     "execution_count": 197,
     "metadata": {},
     "output_type": "execute_result"
    }
   ],
   "source": [
    "new.groupby(\"id\").d.std().reset_index(drop=True)[target.Swarm_Behaviour == 0].describe()"
   ]
  },
  {
   "cell_type": "code",
   "execution_count": 198,
   "metadata": {},
   "outputs": [],
   "source": [
    "from sklearn import ensemble\n",
    "from sklearn import linear_model\n",
    "from sklearn.metrics import f1_score, accuracy_score, confusion_matrix, balanced_accuracy_score\n",
    "import matplotlib.pyplot as plt\n",
    "import seaborn as sns"
   ]
  },
  {
   "cell_type": "code",
   "execution_count": 199,
   "metadata": {},
   "outputs": [],
   "source": [
    "features[\"angle_range\"] = angle_range"
   ]
  },
  {
   "cell_type": "code",
   "execution_count": 200,
   "metadata": {},
   "outputs": [
    {
     "data": {
      "text/html": [
       "<div>\n",
       "<style scoped>\n",
       "    .dataframe tbody tr th:only-of-type {\n",
       "        vertical-align: middle;\n",
       "    }\n",
       "\n",
       "    .dataframe tbody tr th {\n",
       "        vertical-align: top;\n",
       "    }\n",
       "\n",
       "    .dataframe thead th {\n",
       "        text-align: right;\n",
       "    }\n",
       "</style>\n",
       "<table border=\"1\" class=\"dataframe\">\n",
       "  <thead>\n",
       "    <tr style=\"text-align: right;\">\n",
       "      <th></th>\n",
       "      <th>x_mean</th>\n",
       "      <th>y_mean</th>\n",
       "      <th>xVel_mean</th>\n",
       "      <th>yVel_mean</th>\n",
       "      <th>xA_mean</th>\n",
       "      <th>yA_mean</th>\n",
       "      <th>xS_mean</th>\n",
       "      <th>yS_mean</th>\n",
       "      <th>xC_mean</th>\n",
       "      <th>yC_mean</th>\n",
       "      <th>...</th>\n",
       "      <th>yVel_std</th>\n",
       "      <th>xA_std</th>\n",
       "      <th>yA_std</th>\n",
       "      <th>xS_std</th>\n",
       "      <th>yS_std</th>\n",
       "      <th>xC_std</th>\n",
       "      <th>yC_std</th>\n",
       "      <th>nAC_std</th>\n",
       "      <th>nS_std</th>\n",
       "      <th>angle_range</th>\n",
       "    </tr>\n",
       "    <tr>\n",
       "      <th>id</th>\n",
       "      <th></th>\n",
       "      <th></th>\n",
       "      <th></th>\n",
       "      <th></th>\n",
       "      <th></th>\n",
       "      <th></th>\n",
       "      <th></th>\n",
       "      <th></th>\n",
       "      <th></th>\n",
       "      <th></th>\n",
       "      <th></th>\n",
       "      <th></th>\n",
       "      <th></th>\n",
       "      <th></th>\n",
       "      <th></th>\n",
       "      <th></th>\n",
       "      <th></th>\n",
       "      <th></th>\n",
       "      <th></th>\n",
       "      <th></th>\n",
       "      <th></th>\n",
       "    </tr>\n",
       "  </thead>\n",
       "  <tbody>\n",
       "    <tr>\n",
       "      <th>0</th>\n",
       "      <td>35.495</td>\n",
       "      <td>0.265</td>\n",
       "      <td>10.27850</td>\n",
       "      <td>0.00000</td>\n",
       "      <td>0.00000</td>\n",
       "      <td>0.00000</td>\n",
       "      <td>-3.10760</td>\n",
       "      <td>-4.16675</td>\n",
       "      <td>0.00000</td>\n",
       "      <td>0.00000</td>\n",
       "      <td>...</td>\n",
       "      <td>0.000000</td>\n",
       "      <td>0.000000</td>\n",
       "      <td>0.000000</td>\n",
       "      <td>5.732348</td>\n",
       "      <td>582.479151</td>\n",
       "      <td>0.000000</td>\n",
       "      <td>0.000000</td>\n",
       "      <td>0.000000</td>\n",
       "      <td>6.723990</td>\n",
       "      <td>350.776639</td>\n",
       "    </tr>\n",
       "    <tr>\n",
       "      <th>2</th>\n",
       "      <td>9.160</td>\n",
       "      <td>0.060</td>\n",
       "      <td>32.77955</td>\n",
       "      <td>0.00000</td>\n",
       "      <td>-0.00755</td>\n",
       "      <td>0.00105</td>\n",
       "      <td>-0.45095</td>\n",
       "      <td>59.53900</td>\n",
       "      <td>0.00000</td>\n",
       "      <td>-0.12710</td>\n",
       "      <td>...</td>\n",
       "      <td>0.000000</td>\n",
       "      <td>0.203797</td>\n",
       "      <td>0.116737</td>\n",
       "      <td>6.369284</td>\n",
       "      <td>588.192326</td>\n",
       "      <td>0.000000</td>\n",
       "      <td>0.210280</td>\n",
       "      <td>0.114204</td>\n",
       "      <td>6.434694</td>\n",
       "      <td>356.459202</td>\n",
       "    </tr>\n",
       "    <tr>\n",
       "      <th>3</th>\n",
       "      <td>11.740</td>\n",
       "      <td>0.105</td>\n",
       "      <td>-11.52095</td>\n",
       "      <td>-0.07315</td>\n",
       "      <td>0.00000</td>\n",
       "      <td>-0.01135</td>\n",
       "      <td>-0.69555</td>\n",
       "      <td>-46.07760</td>\n",
       "      <td>1.03220</td>\n",
       "      <td>0.00000</td>\n",
       "      <td>...</td>\n",
       "      <td>0.109712</td>\n",
       "      <td>0.000000</td>\n",
       "      <td>0.746680</td>\n",
       "      <td>2.067728</td>\n",
       "      <td>576.061088</td>\n",
       "      <td>0.012244</td>\n",
       "      <td>0.000000</td>\n",
       "      <td>0.941464</td>\n",
       "      <td>1.690816</td>\n",
       "      <td>90.210745</td>\n",
       "    </tr>\n",
       "    <tr>\n",
       "      <th>4</th>\n",
       "      <td>13.425</td>\n",
       "      <td>0.330</td>\n",
       "      <td>-145.79650</td>\n",
       "      <td>-0.87500</td>\n",
       "      <td>0.00000</td>\n",
       "      <td>12.00495</td>\n",
       "      <td>-4.39505</td>\n",
       "      <td>-3.95280</td>\n",
       "      <td>-0.25000</td>\n",
       "      <td>0.00000</td>\n",
       "      <td>...</td>\n",
       "      <td>0.374266</td>\n",
       "      <td>0.000000</td>\n",
       "      <td>308.788492</td>\n",
       "      <td>8.486265</td>\n",
       "      <td>591.714883</td>\n",
       "      <td>0.639959</td>\n",
       "      <td>0.000000</td>\n",
       "      <td>80.259402</td>\n",
       "      <td>8.390766</td>\n",
       "      <td>352.510045</td>\n",
       "    </tr>\n",
       "    <tr>\n",
       "      <th>6</th>\n",
       "      <td>2.200</td>\n",
       "      <td>0.270</td>\n",
       "      <td>-120.27570</td>\n",
       "      <td>-0.01055</td>\n",
       "      <td>-0.01735</td>\n",
       "      <td>0.14390</td>\n",
       "      <td>-0.62635</td>\n",
       "      <td>-15.62325</td>\n",
       "      <td>-0.08045</td>\n",
       "      <td>-0.04940</td>\n",
       "      <td>...</td>\n",
       "      <td>0.131670</td>\n",
       "      <td>0.109501</td>\n",
       "      <td>1.582183</td>\n",
       "      <td>5.302985</td>\n",
       "      <td>584.239742</td>\n",
       "      <td>0.141965</td>\n",
       "      <td>0.120224</td>\n",
       "      <td>0.892773</td>\n",
       "      <td>5.302359</td>\n",
       "      <td>353.576642</td>\n",
       "    </tr>\n",
       "    <tr>\n",
       "      <th>...</th>\n",
       "      <td>...</td>\n",
       "      <td>...</td>\n",
       "      <td>...</td>\n",
       "      <td>...</td>\n",
       "      <td>...</td>\n",
       "      <td>...</td>\n",
       "      <td>...</td>\n",
       "      <td>...</td>\n",
       "      <td>...</td>\n",
       "      <td>...</td>\n",
       "      <td>...</td>\n",
       "      <td>...</td>\n",
       "      <td>...</td>\n",
       "      <td>...</td>\n",
       "      <td>...</td>\n",
       "      <td>...</td>\n",
       "      <td>...</td>\n",
       "      <td>...</td>\n",
       "      <td>...</td>\n",
       "      <td>...</td>\n",
       "      <td>...</td>\n",
       "    </tr>\n",
       "    <tr>\n",
       "      <th>23299</th>\n",
       "      <td>9.695</td>\n",
       "      <td>0.095</td>\n",
       "      <td>-11.22925</td>\n",
       "      <td>0.00465</td>\n",
       "      <td>-0.01185</td>\n",
       "      <td>-0.66395</td>\n",
       "      <td>-0.18765</td>\n",
       "      <td>-12.91500</td>\n",
       "      <td>-0.40845</td>\n",
       "      <td>-0.07820</td>\n",
       "      <td>...</td>\n",
       "      <td>0.286172</td>\n",
       "      <td>0.162809</td>\n",
       "      <td>24.585244</td>\n",
       "      <td>6.559440</td>\n",
       "      <td>540.205550</td>\n",
       "      <td>0.516964</td>\n",
       "      <td>0.165687</td>\n",
       "      <td>68.721772</td>\n",
       "      <td>6.915993</td>\n",
       "      <td>344.314936</td>\n",
       "    </tr>\n",
       "    <tr>\n",
       "      <th>23302</th>\n",
       "      <td>1.775</td>\n",
       "      <td>0.135</td>\n",
       "      <td>-110.34110</td>\n",
       "      <td>-0.01995</td>\n",
       "      <td>-0.01635</td>\n",
       "      <td>0.02550</td>\n",
       "      <td>-0.12650</td>\n",
       "      <td>10.39325</td>\n",
       "      <td>0.79040</td>\n",
       "      <td>0.71235</td>\n",
       "      <td>...</td>\n",
       "      <td>0.101082</td>\n",
       "      <td>0.261999</td>\n",
       "      <td>0.366362</td>\n",
       "      <td>1.078386</td>\n",
       "      <td>567.787827</td>\n",
       "      <td>0.402507</td>\n",
       "      <td>0.469522</td>\n",
       "      <td>0.379455</td>\n",
       "      <td>0.873022</td>\n",
       "      <td>43.949757</td>\n",
       "    </tr>\n",
       "    <tr>\n",
       "      <th>23304</th>\n",
       "      <td>12.135</td>\n",
       "      <td>0.370</td>\n",
       "      <td>46.54075</td>\n",
       "      <td>-0.61000</td>\n",
       "      <td>0.00000</td>\n",
       "      <td>-3.58965</td>\n",
       "      <td>-3.36790</td>\n",
       "      <td>5.63760</td>\n",
       "      <td>-0.81000</td>\n",
       "      <td>0.00000</td>\n",
       "      <td>...</td>\n",
       "      <td>0.528485</td>\n",
       "      <td>0.000000</td>\n",
       "      <td>56.156138</td>\n",
       "      <td>8.505155</td>\n",
       "      <td>618.147326</td>\n",
       "      <td>0.418060</td>\n",
       "      <td>0.000000</td>\n",
       "      <td>59.296856</td>\n",
       "      <td>7.625369</td>\n",
       "      <td>349.989500</td>\n",
       "    </tr>\n",
       "    <tr>\n",
       "      <th>23305</th>\n",
       "      <td>77.160</td>\n",
       "      <td>0.385</td>\n",
       "      <td>20.57555</td>\n",
       "      <td>-0.10430</td>\n",
       "      <td>-0.01235</td>\n",
       "      <td>0.05870</td>\n",
       "      <td>-1.00475</td>\n",
       "      <td>2.95075</td>\n",
       "      <td>-0.68075</td>\n",
       "      <td>-0.00805</td>\n",
       "      <td>...</td>\n",
       "      <td>0.048697</td>\n",
       "      <td>0.118864</td>\n",
       "      <td>6.656341</td>\n",
       "      <td>4.499932</td>\n",
       "      <td>572.062434</td>\n",
       "      <td>0.189044</td>\n",
       "      <td>0.146910</td>\n",
       "      <td>10.154901</td>\n",
       "      <td>5.038219</td>\n",
       "      <td>322.689350</td>\n",
       "    </tr>\n",
       "    <tr>\n",
       "      <th>23307</th>\n",
       "      <td>13.475</td>\n",
       "      <td>0.330</td>\n",
       "      <td>-47.66930</td>\n",
       "      <td>-0.86500</td>\n",
       "      <td>0.00000</td>\n",
       "      <td>-4.30485</td>\n",
       "      <td>-5.24730</td>\n",
       "      <td>45.83180</td>\n",
       "      <td>-0.61500</td>\n",
       "      <td>0.00000</td>\n",
       "      <td>...</td>\n",
       "      <td>0.384074</td>\n",
       "      <td>0.000000</td>\n",
       "      <td>29.354301</td>\n",
       "      <td>7.724791</td>\n",
       "      <td>643.328698</td>\n",
       "      <td>0.487816</td>\n",
       "      <td>0.000000</td>\n",
       "      <td>29.672699</td>\n",
       "      <td>7.398440</td>\n",
       "      <td>350.082281</td>\n",
       "    </tr>\n",
       "  </tbody>\n",
       "</table>\n",
       "<p>15954 rows × 25 columns</p>\n",
       "</div>"
      ],
      "text/plain": [
       "       x_mean  y_mean  xVel_mean  yVel_mean  xA_mean   yA_mean  xS_mean  \\\n",
       "id                                                                        \n",
       "0      35.495   0.265   10.27850    0.00000  0.00000   0.00000 -3.10760   \n",
       "2       9.160   0.060   32.77955    0.00000 -0.00755   0.00105 -0.45095   \n",
       "3      11.740   0.105  -11.52095   -0.07315  0.00000  -0.01135 -0.69555   \n",
       "4      13.425   0.330 -145.79650   -0.87500  0.00000  12.00495 -4.39505   \n",
       "6       2.200   0.270 -120.27570   -0.01055 -0.01735   0.14390 -0.62635   \n",
       "...       ...     ...        ...        ...      ...       ...      ...   \n",
       "23299   9.695   0.095  -11.22925    0.00465 -0.01185  -0.66395 -0.18765   \n",
       "23302   1.775   0.135 -110.34110   -0.01995 -0.01635   0.02550 -0.12650   \n",
       "23304  12.135   0.370   46.54075   -0.61000  0.00000  -3.58965 -3.36790   \n",
       "23305  77.160   0.385   20.57555   -0.10430 -0.01235   0.05870 -1.00475   \n",
       "23307  13.475   0.330  -47.66930   -0.86500  0.00000  -4.30485 -5.24730   \n",
       "\n",
       "        yS_mean  xC_mean  yC_mean  ...  yVel_std    xA_std      yA_std  \\\n",
       "id                                 ...                                   \n",
       "0      -4.16675  0.00000  0.00000  ...  0.000000  0.000000    0.000000   \n",
       "2      59.53900  0.00000 -0.12710  ...  0.000000  0.203797    0.116737   \n",
       "3     -46.07760  1.03220  0.00000  ...  0.109712  0.000000    0.746680   \n",
       "4      -3.95280 -0.25000  0.00000  ...  0.374266  0.000000  308.788492   \n",
       "6     -15.62325 -0.08045 -0.04940  ...  0.131670  0.109501    1.582183   \n",
       "...         ...      ...      ...  ...       ...       ...         ...   \n",
       "23299 -12.91500 -0.40845 -0.07820  ...  0.286172  0.162809   24.585244   \n",
       "23302  10.39325  0.79040  0.71235  ...  0.101082  0.261999    0.366362   \n",
       "23304   5.63760 -0.81000  0.00000  ...  0.528485  0.000000   56.156138   \n",
       "23305   2.95075 -0.68075 -0.00805  ...  0.048697  0.118864    6.656341   \n",
       "23307  45.83180 -0.61500  0.00000  ...  0.384074  0.000000   29.354301   \n",
       "\n",
       "         xS_std      yS_std    xC_std    yC_std    nAC_std    nS_std  \\\n",
       "id                                                                     \n",
       "0      5.732348  582.479151  0.000000  0.000000   0.000000  6.723990   \n",
       "2      6.369284  588.192326  0.000000  0.210280   0.114204  6.434694   \n",
       "3      2.067728  576.061088  0.012244  0.000000   0.941464  1.690816   \n",
       "4      8.486265  591.714883  0.639959  0.000000  80.259402  8.390766   \n",
       "6      5.302985  584.239742  0.141965  0.120224   0.892773  5.302359   \n",
       "...         ...         ...       ...       ...        ...       ...   \n",
       "23299  6.559440  540.205550  0.516964  0.165687  68.721772  6.915993   \n",
       "23302  1.078386  567.787827  0.402507  0.469522   0.379455  0.873022   \n",
       "23304  8.505155  618.147326  0.418060  0.000000  59.296856  7.625369   \n",
       "23305  4.499932  572.062434  0.189044  0.146910  10.154901  5.038219   \n",
       "23307  7.724791  643.328698  0.487816  0.000000  29.672699  7.398440   \n",
       "\n",
       "       angle_range  \n",
       "id                  \n",
       "0       350.776639  \n",
       "2       356.459202  \n",
       "3        90.210745  \n",
       "4       352.510045  \n",
       "6       353.576642  \n",
       "...            ...  \n",
       "23299   344.314936  \n",
       "23302    43.949757  \n",
       "23304   349.989500  \n",
       "23305   322.689350  \n",
       "23307   350.082281  \n",
       "\n",
       "[15954 rows x 25 columns]"
      ]
     },
     "execution_count": 200,
     "metadata": {},
     "output_type": "execute_result"
    }
   ],
   "source": [
    "features"
   ]
  },
  {
   "cell_type": "code",
   "execution_count": 201,
   "metadata": {},
   "outputs": [],
   "source": [
    "TRAIN_RATIO = 0.7\n",
    "LENGTH = len(features)\n",
    "y = target.set_index(\"id\").Swarm_Behaviour\n",
    "X = features.T[24:].T\n",
    "\n",
    "split_index = TRAIN_RATIO * LENGTH\n",
    "X_train = X.loc[:split_index]\n",
    "y_train = y.loc[:split_index]\n",
    "X_test = X.loc[split_index:]\n",
    "y_test = y.loc[split_index:]"
   ]
  },
  {
   "cell_type": "code",
   "execution_count": 202,
   "metadata": {},
   "outputs": [],
   "source": [
    "# ensemble.AdaBoostClassifier() \n",
    "\n",
    "def cross_validate(\n",
    "    X_train, \n",
    "    folds=10, \n",
    "    model=linear_model.LogisticRegression(),\n",
    "    metric=f1_score\n",
    "    ):\n",
    "\n",
    "    # logic of CV\n",
    "    n = len(X_train)\n",
    "    n_per_fold = n // folds\n",
    "    metric_values = np.zeros(folds)\n",
    "\n",
    "    for i in range(folds):\n",
    "        validation_index = range(i * n_per_fold, (i+1) * n_per_fold)\n",
    "        X_train_fold = X_train[~X_train.index.isin(validation_index)]\n",
    "        y_train_fold = y_train[~y_train.index.isin(validation_index)]\n",
    "        X_test_fold = X_train[X_train.index.isin(validation_index)]\n",
    "        y_test_fold = y_train[y_train.index.isin(validation_index)]\n",
    "\n",
    "        model.fit(X_train_fold, y_train_fold)\n",
    "\n",
    "        y_pred_fold = model.predict(X_test_fold)\n",
    "        metric_values[i] = (metric(y_test_fold, y_pred_fold))\n",
    "\n",
    "    return metric_values\n",
    "\n",
    "\n",
    "metric_values = cross_validate(X_train, 5, linear_model.LogisticRegression(), accuracy_score)"
   ]
  },
  {
   "cell_type": "code",
   "execution_count": 203,
   "metadata": {},
   "outputs": [
    {
     "data": {
      "text/plain": [
       "0.8568494070857362"
      ]
     },
     "execution_count": 203,
     "metadata": {},
     "output_type": "execute_result"
    }
   ],
   "source": [
    "metric_values.mean()"
   ]
  },
  {
   "cell_type": "code",
   "execution_count": 204,
   "metadata": {},
   "outputs": [
    {
     "data": {
      "text/plain": [
       "<Axes: >"
      ]
     },
     "execution_count": 204,
     "metadata": {},
     "output_type": "execute_result"
    },
    {
     "data": {
      "image/png": "[encoded data removed]",
      "text/plain": [
       "<Figure size 640x480 with 1 Axes>"
      ]
     },
     "metadata": {},
     "output_type": "display_data"
    }
   ],
   "source": [
    "pd.Series(metric_values).hist(bins=30)"
   ]
  },
  {
   "cell_type": "code",
   "execution_count": 205,
   "metadata": {},
   "outputs": [
    {
     "data": {
      "text/html": [
       "<style>#sk-container-id-1 {color: black;}#sk-container-id-1 pre{padding: 0;}#sk-container-id-1 div.sk-toggleable {background-color: white;}#sk-container-id-1 label.sk-toggleable__label {cursor: pointer;display: block;width: 100%;margin-bottom: 0;padding: 0.3em;box-sizing: border-box;text-align: center;}#sk-container-id-1 label.sk-toggleable__label-arrow:before {content: \"▸\";float: left;margin-right: 0.25em;color: #696969;}#sk-container-id-1 label.sk-toggleable__label-arrow:hover:before {color: black;}#sk-container-id-1 div.sk-estimator:hover label.sk-toggleable__label-arrow:before {color: black;}#sk-container-id-1 div.sk-toggleable__content {max-height: 0;max-width: 0;overflow: hidden;text-align: left;background-color: #f0f8ff;}#sk-container-id-1 div.sk-toggleable__content pre {margin: 0.2em;color: black;border-radius: 0.25em;background-color: #f0f8ff;}#sk-container-id-1 input.sk-toggleable__control:checked~div.sk-toggleable__content {max-height: 200px;max-width: 100%;overflow: auto;}#sk-container-id-1 input.sk-toggleable__control:checked~label.sk-toggleable__label-arrow:before {content: \"▾\";}#sk-container-id-1 div.sk-estimator input.sk-toggleable__control:checked~label.sk-toggleable__label {background-color: #d4ebff;}#sk-container-id-1 div.sk-label input.sk-toggleable__control:checked~label.sk-toggleable__label {background-color: #d4ebff;}#sk-container-id-1 input.sk-hidden--visually {border: 0;clip: rect(1px 1px 1px 1px);clip: rect(1px, 1px, 1px, 1px);height: 1px;margin: -1px;overflow: hidden;padding: 0;position: absolute;width: 1px;}#sk-container-id-1 div.sk-estimator {font-family: monospace;background-color: #f0f8ff;border: 1px dotted black;border-radius: 0.25em;box-sizing: border-box;margin-bottom: 0.5em;}#sk-container-id-1 div.sk-estimator:hover {background-color: #d4ebff;}#sk-container-id-1 div.sk-parallel-item::after {content: \"\";width: 100%;border-bottom: 1px solid gray;flex-grow: 1;}#sk-container-id-1 div.sk-label:hover label.sk-toggleable__label {background-color: #d4ebff;}#sk-container-id-1 div.sk-serial::before {content: \"\";position: absolute;border-left: 1px solid gray;box-sizing: border-box;top: 0;bottom: 0;left: 50%;z-index: 0;}#sk-container-id-1 div.sk-serial {display: flex;flex-direction: column;align-items: center;background-color: white;padding-right: 0.2em;padding-left: 0.2em;position: relative;}#sk-container-id-1 div.sk-item {position: relative;z-index: 1;}#sk-container-id-1 div.sk-parallel {display: flex;align-items: stretch;justify-content: center;background-color: white;position: relative;}#sk-container-id-1 div.sk-item::before, #sk-container-id-1 div.sk-parallel-item::before {content: \"\";position: absolute;border-left: 1px solid gray;box-sizing: border-box;top: 0;bottom: 0;left: 50%;z-index: -1;}#sk-container-id-1 div.sk-parallel-item {display: flex;flex-direction: column;z-index: 1;position: relative;background-color: white;}#sk-container-id-1 div.sk-parallel-item:first-child::after {align-self: flex-end;width: 50%;}#sk-container-id-1 div.sk-parallel-item:last-child::after {align-self: flex-start;width: 50%;}#sk-container-id-1 div.sk-parallel-item:only-child::after {width: 0;}#sk-container-id-1 div.sk-dashed-wrapped {border: 1px dashed gray;margin: 0 0.4em 0.5em 0.4em;box-sizing: border-box;padding-bottom: 0.4em;background-color: white;}#sk-container-id-1 div.sk-label label {font-family: monospace;font-weight: bold;display: inline-block;line-height: 1.2em;}#sk-container-id-1 div.sk-label-container {text-align: center;}#sk-container-id-1 div.sk-container {/* jupyter's `normalize.less` sets `[hidden] { display: none; }` but bootstrap.min.css set `[hidden] { display: none !important; }` so we also need the `!important` here to be able to override the default hidden behavior on the sphinx rendered scikit-learn.org. See: https://github.com/scikit-learn/scikit-learn/issues/21755 */display: inline-block !important;position: relative;}#sk-container-id-1 div.sk-text-repr-fallback {display: none;}</style><div id=\"sk-container-id-1\" class=\"sk-top-container\"><div class=\"sk-text-repr-fallback\"><pre>LogisticRegression()</pre><b>In a Jupyter environment, please rerun this cell to show the HTML representation or trust the notebook. <br />On GitHub, the HTML representation is unable to render, please try loading this page with nbviewer.org.</b></div><div class=\"sk-container\" hidden><div class=\"sk-item\"><div class=\"sk-estimator sk-toggleable\"><input class=\"sk-toggleable__control sk-hidden--visually\" id=\"sk-estimator-id-1\" type=\"checkbox\" checked><label for=\"sk-estimator-id-1\" class=\"sk-toggleable__label sk-toggleable__label-arrow\">LogisticRegression</label><div class=\"sk-toggleable__content\"><pre>LogisticRegression()</pre></div></div></div></div></div>"
      ],
      "text/plain": [
       "LogisticRegression()"
      ]
     },
     "execution_count": 205,
     "metadata": {},
     "output_type": "execute_result"
    }
   ],
   "source": [
    "# we can change this, need to have reasoning for the model\n",
    "model = linear_model.LogisticRegression() \n",
    "# model = ensemble.GradientBoostingClassifier()\n",
    "model.fit(X_train, y_train)"
   ]
  },
  {
   "cell_type": "code",
   "execution_count": 206,
   "metadata": {},
   "outputs": [
    {
     "name": "stdout",
     "output_type": "stream",
     "text": [
      "confusion_matrix\n",
      "[[3948  246]\n",
      " [ 872 3222]]\n",
      "f1_score\n",
      "0.8521555144141761\n",
      "accuracy_score\n",
      "0.8651061776061776\n",
      "balanced_accuracy_score\n",
      "0.8641750759861425\n"
     ]
    }
   ],
   "source": [
    "y_pred = model.predict(X_test)\n",
    "\n",
    "for f in [confusion_matrix, f1_score, accuracy_score, balanced_accuracy_score]:\n",
    "    print(str(f).split()[1])\n",
    "    print(f(y_test, y_pred))\n",
    "\n",
    "# good scores - so look at the errors!"
   ]
  },
  {
   "cell_type": "code",
   "execution_count": 207,
   "metadata": {},
   "outputs": [],
   "source": [
    "# solve imbalanced data problem\n",
    "\n",
    "# extract features\n",
    "\n",
    "# train / test\n",
    "\n",
    "# evaluate which model is best (optimisation)\n",
    "\n",
    "# "
   ]
  },
  {
   "cell_type": "code",
   "execution_count": 208,
   "metadata": {},
   "outputs": [],
   "source": [
    "t_end = time.time()\n",
    "t_total = round(t_end - t_start, 3)\n",
    "mins = int(t_total//60)\n",
    "seconds = int(t_total%60)"
   ]
  },
  {
   "cell_type": "code",
   "execution_count": 209,
   "metadata": {},
   "outputs": [
    {
     "name": "stdout",
     "output_type": "stream",
     "text": [
      "Time taken: 2m30s\n"
     ]
    }
   ],
   "source": [
    "print(f\"Time taken: {mins}m{seconds}s\")"
   ]
  }
 ],
 "metadata": {
  "kernelspec": {
   "display_name": "base",
   "language": "python",
   "name": "python3"
  },
  "language_info": {
   "codemirror_mode": {
    "name": "ipython",
    "version": 3
   },
   "file_extension": ".py",
   "mimetype": "text/x-python",
   "name": "python",
   "nbconvert_exporter": "python",
   "pygments_lexer": "ipython3",
   "version": "3.10.9"
  }
 },
 "nbformat": 4,
 "nbformat_minor": 2
}
