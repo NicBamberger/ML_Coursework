{
 "cells": [
  {
   "cell_type": "code",
   "execution_count": 254,
   "metadata": {},
   "outputs": [],
   "source": [
    "import pandas as pd\n",
    "import numpy as np\n",
    "import matplotlib.pyplot as plt\n",
    "\n",
    "import scipy.stats as sp"
   ]
  },
  {
   "cell_type": "code",
   "execution_count": 120,
   "metadata": {},
   "outputs": [],
   "source": [
    "path = \"./data/data.csv\"\n",
    "df = pd.read_csv(path)"
   ]
  },
  {
   "cell_type": "code",
   "execution_count": 193,
   "metadata": {},
   "outputs": [],
   "source": [
    "N_SUBJECTS = 10\n",
    "N_CONDITIONS = 3\n",
    "N_REPS = 10\n",
    "N_SENSORS = 6\n",
    "N_TRIALS = N_SUBJECTS * N_CONDITIONS * N_REPS"
   ]
  },
  {
   "cell_type": "markdown",
   "metadata": {},
   "source": [
    "# Preprocessing"
   ]
  },
  {
   "cell_type": "code",
   "execution_count": 122,
   "metadata": {},
   "outputs": [],
   "source": [
    "trials = [\"subject\", \"condition\", \"replication\"]\n",
    "index_columns = trials + [\"time\"]\n",
    "df = df.set_index(index_columns)\n",
    "\n",
    "matrix = pd.DataFrame()\n",
    "joint_map = {1: \"ankle\", 2: \"knee\", 3: \"hip\"}\n",
    "leg_map = {1: \"left\", 2: \"right\"}\n",
    "\n",
    "for leg_key, leg_val in leg_map.items():\n",
    "    for joint_key, joint_val in joint_map.items():\n",
    "        matrix[f\"{leg_val}_{joint_val}\"] = df[(df.leg == leg_key) & (df.joint == joint_key)].angle\n",
    "\n",
    "rs = matrix.reset_index()\n",
    "series = pd.DataFrame((rs.subject - 1) * N_REPS * N_CONDITIONS + (rs.condition - 1) * N_REPS + rs.replication)\n",
    "matrix[\"trial\"] = series.set_index(matrix.index)\n",
    "\n",
    "\n"
   ]
  },
  {
   "cell_type": "code",
   "execution_count": 123,
   "metadata": {},
   "outputs": [
    {
     "data": {
      "text/html": [
       "<div>\n",
       "<style scoped>\n",
       "    .dataframe tbody tr th:only-of-type {\n",
       "        vertical-align: middle;\n",
       "    }\n",
       "\n",
       "    .dataframe tbody tr th {\n",
       "        vertical-align: top;\n",
       "    }\n",
       "\n",
       "    .dataframe thead th {\n",
       "        text-align: right;\n",
       "    }\n",
       "</style>\n",
       "<table border=\"1\" class=\"dataframe\">\n",
       "  <thead>\n",
       "    <tr style=\"text-align: right;\">\n",
       "      <th></th>\n",
       "      <th></th>\n",
       "      <th></th>\n",
       "      <th></th>\n",
       "      <th>left_ankle</th>\n",
       "      <th>left_knee</th>\n",
       "      <th>left_hip</th>\n",
       "      <th>right_ankle</th>\n",
       "      <th>right_knee</th>\n",
       "      <th>right_hip</th>\n",
       "      <th>trial</th>\n",
       "    </tr>\n",
       "    <tr>\n",
       "      <th>subject</th>\n",
       "      <th>condition</th>\n",
       "      <th>replication</th>\n",
       "      <th>time</th>\n",
       "      <th></th>\n",
       "      <th></th>\n",
       "      <th></th>\n",
       "      <th></th>\n",
       "      <th></th>\n",
       "      <th></th>\n",
       "      <th></th>\n",
       "    </tr>\n",
       "  </thead>\n",
       "  <tbody>\n",
       "    <tr>\n",
       "      <th rowspan=\"2\" valign=\"top\">1</th>\n",
       "      <th rowspan=\"2\" valign=\"top\">1</th>\n",
       "      <th rowspan=\"2\" valign=\"top\">1</th>\n",
       "      <th>0</th>\n",
       "      <td>4.682881</td>\n",
       "      <td>3.693683</td>\n",
       "      <td>16.607868</td>\n",
       "      <td>5.015829</td>\n",
       "      <td>2.244425</td>\n",
       "      <td>18.94829</td>\n",
       "      <td>1</td>\n",
       "    </tr>\n",
       "    <tr>\n",
       "      <th>1</th>\n",
       "      <td>5.073127</td>\n",
       "      <td>4.258876</td>\n",
       "      <td>16.851029</td>\n",
       "      <td>5.291201</td>\n",
       "      <td>3.381678</td>\n",
       "      <td>19.26530</td>\n",
       "      <td>1</td>\n",
       "    </tr>\n",
       "  </tbody>\n",
       "</table>\n",
       "</div>"
      ],
      "text/plain": [
       "                                    left_ankle  left_knee   left_hip  \\\n",
       "subject condition replication time                                     \n",
       "1       1         1           0       4.682881   3.693683  16.607868   \n",
       "                              1       5.073127   4.258876  16.851029   \n",
       "\n",
       "                                    right_ankle  right_knee  right_hip  trial  \n",
       "subject condition replication time                                             \n",
       "1       1         1           0        5.015829    2.244425   18.94829      1  \n",
       "                              1        5.291201    3.381678   19.26530      1  "
      ]
     },
     "execution_count": 123,
     "metadata": {},
     "output_type": "execute_result"
    }
   ],
   "source": [
    "matrix.head(2)"
   ]
  },
  {
   "cell_type": "code",
   "execution_count": 124,
   "metadata": {},
   "outputs": [],
   "source": [
    "target = pd.Series(range(N_TRIALS), index=range(1, N_TRIALS + 1))\n",
    "target = 1 + ((target // 10) % 3)\n",
    "target.name = \"condition\"\n",
    "\n",
    "matrix = matrix.reset_index().drop(trials, axis=1).set_index([\"trial\", \"time\"])"
   ]
  },
  {
   "cell_type": "code",
   "execution_count": 196,
   "metadata": {},
   "outputs": [],
   "source": [
    "target2 = pd.Series(range(N_TRIALS * N_SENSORS), index=range(1, N_TRIALS * N_SENSORS + 1))\n",
    "target2 = 1 + ((target2 // 60) % 3)\n",
    "target2.name = \"condition\"\n",
    "\n",
    "matrix2 = matrix.reset_index().melt(id_vars=[\"trial\", \"time\"])"
   ]
  },
  {
   "cell_type": "code",
   "execution_count": 298,
   "metadata": {},
   "outputs": [],
   "source": [
    "means = matrix.groupby(\"trial\").mean()\n",
    "means.columns=[f\"{col}_mean\" for col in matrix.columns]\n",
    "stdevs = matrix.groupby(\"trial\").std()\n",
    "stdevs.columns=[f\"{col}_stdev\" for col in matrix.columns]\n",
    "other_features = pd.DataFrame()\n",
    "\n",
    "means = means.T.iloc[0:6].T"
   ]
  },
  {
   "cell_type": "code",
   "execution_count": 297,
   "metadata": {},
   "outputs": [],
   "source": [
    "grouped = matrix2.groupby([\"trial\", \"variable\"])\n",
    "means2 = grouped.mean().drop(\"time\", axis=1)\n",
    "means2.name = \"mean\"\n",
    "stdevs2 = grouped.std().drop(\"time\", axis=1)\n",
    "low_q = grouped.quantile(0.25).drop(\"time\", axis=1)\n",
    "high_q = grouped.quantile(0.75).drop(\"time\", axis=1)"
   ]
  },
  {
   "cell_type": "code",
   "execution_count": 313,
   "metadata": {},
   "outputs": [],
   "source": [
    "features = pd.concat([means], axis=1)\n",
    "\n",
    "features2 = pd.concat([means2, stdevs2, low_q, high_q], axis=1)\n",
    "features2.columns = [\"mean\", \"std\", \"low\", \"high\"]"
   ]
  },
  {
   "cell_type": "code",
   "execution_count": null,
   "metadata": {},
   "outputs": [],
   "source": []
  },
  {
   "cell_type": "markdown",
   "metadata": {},
   "source": [
    "# Testing Model"
   ]
  },
  {
   "cell_type": "code",
   "execution_count": 301,
   "metadata": {},
   "outputs": [],
   "source": [
    "from sklearn import linear_model, ensemble\n",
    "from sklearn.metrics import f1_score, accuracy_score, confusion_matrix, balanced_accuracy_score\n",
    "import matplotlib.pyplot as plt\n",
    "import seaborn as sns"
   ]
  },
  {
   "cell_type": "code",
   "execution_count": 302,
   "metadata": {},
   "outputs": [],
   "source": [
    "TRAIN_SUBJECTS = 7\n",
    "TRAIN_TRIALS = N_TRIALS * TRAIN_SUBJECTS / N_SUBJECTS\n",
    "\n",
    "features_used = features2\n",
    "target_used = target2\n",
    "\n",
    "X = features_used.copy()\n",
    "y = target_used.copy()\n",
    "\n",
    "X_split = TRAIN_TRIALS\n",
    "y_split = (X_split * N_SENSORS)\n",
    "\n",
    "X_train = X.loc[:X_split].values\n",
    "y_train = y.loc[:y_split].values\n",
    "X_test = X.loc[X_split+1:].values\n",
    "y_test = y.loc[y_split +1:].values"
   ]
  },
  {
   "cell_type": "code",
   "execution_count": 303,
   "metadata": {},
   "outputs": [
    {
     "data": {
      "text/html": [
       "<div>\n",
       "<style scoped>\n",
       "    .dataframe tbody tr th:only-of-type {\n",
       "        vertical-align: middle;\n",
       "    }\n",
       "\n",
       "    .dataframe tbody tr th {\n",
       "        vertical-align: top;\n",
       "    }\n",
       "\n",
       "    .dataframe thead th {\n",
       "        text-align: right;\n",
       "    }\n",
       "</style>\n",
       "<table border=\"1\" class=\"dataframe\">\n",
       "  <thead>\n",
       "    <tr style=\"text-align: right;\">\n",
       "      <th></th>\n",
       "      <th></th>\n",
       "      <th>mean</th>\n",
       "      <th>std</th>\n",
       "      <th>low</th>\n",
       "      <th>high</th>\n",
       "    </tr>\n",
       "    <tr>\n",
       "      <th>trial</th>\n",
       "      <th>variable</th>\n",
       "      <th></th>\n",
       "      <th></th>\n",
       "      <th></th>\n",
       "      <th></th>\n",
       "    </tr>\n",
       "  </thead>\n",
       "  <tbody>\n",
       "    <tr>\n",
       "      <th rowspan=\"5\" valign=\"top\">1</th>\n",
       "      <th>left_ankle</th>\n",
       "      <td>7.850984</td>\n",
       "      <td>5.137240</td>\n",
       "      <td>5.131447</td>\n",
       "      <td>11.907845</td>\n",
       "    </tr>\n",
       "    <tr>\n",
       "      <th>left_hip</th>\n",
       "      <td>4.597241</td>\n",
       "      <td>12.563371</td>\n",
       "      <td>-6.709405</td>\n",
       "      <td>17.070042</td>\n",
       "    </tr>\n",
       "    <tr>\n",
       "      <th>left_knee</th>\n",
       "      <td>21.860145</td>\n",
       "      <td>18.214232</td>\n",
       "      <td>8.704838</td>\n",
       "      <td>29.831388</td>\n",
       "    </tr>\n",
       "    <tr>\n",
       "      <th>right_ankle</th>\n",
       "      <td>7.061943</td>\n",
       "      <td>4.313286</td>\n",
       "      <td>4.264137</td>\n",
       "      <td>10.275894</td>\n",
       "    </tr>\n",
       "    <tr>\n",
       "      <th>right_hip</th>\n",
       "      <td>5.737394</td>\n",
       "      <td>12.731324</td>\n",
       "      <td>-6.991930</td>\n",
       "      <td>18.948290</td>\n",
       "    </tr>\n",
       "    <tr>\n",
       "      <th>...</th>\n",
       "      <th>...</th>\n",
       "      <td>...</td>\n",
       "      <td>...</td>\n",
       "      <td>...</td>\n",
       "      <td>...</td>\n",
       "    </tr>\n",
       "    <tr>\n",
       "      <th rowspan=\"5\" valign=\"top\">300</th>\n",
       "      <th>left_hip</th>\n",
       "      <td>14.035819</td>\n",
       "      <td>13.332365</td>\n",
       "      <td>1.676120</td>\n",
       "      <td>26.407979</td>\n",
       "    </tr>\n",
       "    <tr>\n",
       "      <th>left_knee</th>\n",
       "      <td>18.891068</td>\n",
       "      <td>18.893064</td>\n",
       "      <td>4.039879</td>\n",
       "      <td>29.254627</td>\n",
       "    </tr>\n",
       "    <tr>\n",
       "      <th>right_ankle</th>\n",
       "      <td>-4.074704</td>\n",
       "      <td>1.481373</td>\n",
       "      <td>-4.937225</td>\n",
       "      <td>-3.285091</td>\n",
       "    </tr>\n",
       "    <tr>\n",
       "      <th>right_hip</th>\n",
       "      <td>12.226518</td>\n",
       "      <td>15.256644</td>\n",
       "      <td>-1.682344</td>\n",
       "      <td>26.837917</td>\n",
       "    </tr>\n",
       "    <tr>\n",
       "      <th>right_knee</th>\n",
       "      <td>15.802689</td>\n",
       "      <td>17.034775</td>\n",
       "      <td>2.616228</td>\n",
       "      <td>27.924956</td>\n",
       "    </tr>\n",
       "  </tbody>\n",
       "</table>\n",
       "<p>1800 rows × 4 columns</p>\n",
       "</div>"
      ],
      "text/plain": [
       "                        mean        std       low       high\n",
       "trial variable                                              \n",
       "1     left_ankle    7.850984   5.137240  5.131447  11.907845\n",
       "      left_hip      4.597241  12.563371 -6.709405  17.070042\n",
       "      left_knee    21.860145  18.214232  8.704838  29.831388\n",
       "      right_ankle   7.061943   4.313286  4.264137  10.275894\n",
       "      right_hip     5.737394  12.731324 -6.991930  18.948290\n",
       "...                      ...        ...       ...        ...\n",
       "300   left_hip     14.035819  13.332365  1.676120  26.407979\n",
       "      left_knee    18.891068  18.893064  4.039879  29.254627\n",
       "      right_ankle  -4.074704   1.481373 -4.937225  -3.285091\n",
       "      right_hip    12.226518  15.256644 -1.682344  26.837917\n",
       "      right_knee   15.802689  17.034775  2.616228  27.924956\n",
       "\n",
       "[1800 rows x 4 columns]"
      ]
     },
     "execution_count": 303,
     "metadata": {},
     "output_type": "execute_result"
    }
   ],
   "source": [
    "X"
   ]
  },
  {
   "cell_type": "code",
   "execution_count": 304,
   "metadata": {},
   "outputs": [],
   "source": [
    "# here we will use cross validation on X_train"
   ]
  },
  {
   "cell_type": "code",
   "execution_count": 305,
   "metadata": {},
   "outputs": [
    {
     "data": {
      "text/plain": [
       "(540, 4)"
      ]
     },
     "execution_count": 305,
     "metadata": {},
     "output_type": "execute_result"
    }
   ],
   "source": [
    "X_test.shape"
   ]
  },
  {
   "cell_type": "code",
   "execution_count": 306,
   "metadata": {},
   "outputs": [
    {
     "data": {
      "text/plain": [
       "(540,)"
      ]
     },
     "execution_count": 306,
     "metadata": {},
     "output_type": "execute_result"
    }
   ],
   "source": [
    "y_test.shape"
   ]
  },
  {
   "cell_type": "code",
   "execution_count": 311,
   "metadata": {},
   "outputs": [
    {
     "data": {
      "text/html": [
       "<style>#sk-container-id-29 {color: black;background-color: white;}#sk-container-id-29 pre{padding: 0;}#sk-container-id-29 div.sk-toggleable {background-color: white;}#sk-container-id-29 label.sk-toggleable__label {cursor: pointer;display: block;width: 100%;margin-bottom: 0;padding: 0.3em;box-sizing: border-box;text-align: center;}#sk-container-id-29 label.sk-toggleable__label-arrow:before {content: \"▸\";float: left;margin-right: 0.25em;color: #696969;}#sk-container-id-29 label.sk-toggleable__label-arrow:hover:before {color: black;}#sk-container-id-29 div.sk-estimator:hover label.sk-toggleable__label-arrow:before {color: black;}#sk-container-id-29 div.sk-toggleable__content {max-height: 0;max-width: 0;overflow: hidden;text-align: left;background-color: #f0f8ff;}#sk-container-id-29 div.sk-toggleable__content pre {margin: 0.2em;color: black;border-radius: 0.25em;background-color: #f0f8ff;}#sk-container-id-29 input.sk-toggleable__control:checked~div.sk-toggleable__content {max-height: 200px;max-width: 100%;overflow: auto;}#sk-container-id-29 input.sk-toggleable__control:checked~label.sk-toggleable__label-arrow:before {content: \"▾\";}#sk-container-id-29 div.sk-estimator input.sk-toggleable__control:checked~label.sk-toggleable__label {background-color: #d4ebff;}#sk-container-id-29 div.sk-label input.sk-toggleable__control:checked~label.sk-toggleable__label {background-color: #d4ebff;}#sk-container-id-29 input.sk-hidden--visually {border: 0;clip: rect(1px 1px 1px 1px);clip: rect(1px, 1px, 1px, 1px);height: 1px;margin: -1px;overflow: hidden;padding: 0;position: absolute;width: 1px;}#sk-container-id-29 div.sk-estimator {font-family: monospace;background-color: #f0f8ff;border: 1px dotted black;border-radius: 0.25em;box-sizing: border-box;margin-bottom: 0.5em;}#sk-container-id-29 div.sk-estimator:hover {background-color: #d4ebff;}#sk-container-id-29 div.sk-parallel-item::after {content: \"\";width: 100%;border-bottom: 1px solid gray;flex-grow: 1;}#sk-container-id-29 div.sk-label:hover label.sk-toggleable__label {background-color: #d4ebff;}#sk-container-id-29 div.sk-serial::before {content: \"\";position: absolute;border-left: 1px solid gray;box-sizing: border-box;top: 0;bottom: 0;left: 50%;z-index: 0;}#sk-container-id-29 div.sk-serial {display: flex;flex-direction: column;align-items: center;background-color: white;padding-right: 0.2em;padding-left: 0.2em;position: relative;}#sk-container-id-29 div.sk-item {position: relative;z-index: 1;}#sk-container-id-29 div.sk-parallel {display: flex;align-items: stretch;justify-content: center;background-color: white;position: relative;}#sk-container-id-29 div.sk-item::before, #sk-container-id-29 div.sk-parallel-item::before {content: \"\";position: absolute;border-left: 1px solid gray;box-sizing: border-box;top: 0;bottom: 0;left: 50%;z-index: -1;}#sk-container-id-29 div.sk-parallel-item {display: flex;flex-direction: column;z-index: 1;position: relative;background-color: white;}#sk-container-id-29 div.sk-parallel-item:first-child::after {align-self: flex-end;width: 50%;}#sk-container-id-29 div.sk-parallel-item:last-child::after {align-self: flex-start;width: 50%;}#sk-container-id-29 div.sk-parallel-item:only-child::after {width: 0;}#sk-container-id-29 div.sk-dashed-wrapped {border: 1px dashed gray;margin: 0 0.4em 0.5em 0.4em;box-sizing: border-box;padding-bottom: 0.4em;background-color: white;}#sk-container-id-29 div.sk-label label {font-family: monospace;font-weight: bold;display: inline-block;line-height: 1.2em;}#sk-container-id-29 div.sk-label-container {text-align: center;}#sk-container-id-29 div.sk-container {/* jupyter's `normalize.less` sets `[hidden] { display: none; }` but bootstrap.min.css set `[hidden] { display: none !important; }` so we also need the `!important` here to be able to override the default hidden behavior on the sphinx rendered scikit-learn.org. See: https://github.com/scikit-learn/scikit-learn/issues/21755 */display: inline-block !important;position: relative;}#sk-container-id-29 div.sk-text-repr-fallback {display: none;}</style><div id=\"sk-container-id-29\" class=\"sk-top-container\"><div class=\"sk-text-repr-fallback\"><pre>LogisticRegression()</pre><b>In a Jupyter environment, please rerun this cell to show the HTML representation or trust the notebook. <br />On GitHub, the HTML representation is unable to render, please try loading this page with nbviewer.org.</b></div><div class=\"sk-container\" hidden><div class=\"sk-item\"><div class=\"sk-estimator sk-toggleable\"><input class=\"sk-toggleable__control sk-hidden--visually\" id=\"sk-estimator-id-29\" type=\"checkbox\" checked><label for=\"sk-estimator-id-29\" class=\"sk-toggleable__label sk-toggleable__label-arrow\">LogisticRegression</label><div class=\"sk-toggleable__content\"><pre>LogisticRegression()</pre></div></div></div></div></div>"
      ],
      "text/plain": [
       "LogisticRegression()"
      ]
     },
     "execution_count": 311,
     "metadata": {},
     "output_type": "execute_result"
    }
   ],
   "source": [
    "# we can change this, need to have reasoning for the model\n",
    "model = linear_model.LogisticRegression() \n",
    "# model = ensemble.AdaBoostClassifier()\n",
    "model.fit(X_train, y_train)"
   ]
  },
  {
   "cell_type": "code",
   "execution_count": 312,
   "metadata": {},
   "outputs": [
    {
     "name": "stdout",
     "output_type": "stream",
     "text": [
      "confusion_matrix\n",
      "[[ 54  45  81]\n",
      " [ 17 124  39]\n",
      " [ 34  50  96]]\n",
      "accuracy_score\n",
      "0.5074074074074074\n"
     ]
    }
   ],
   "source": [
    "y_pred = model.predict(X_test)\n",
    "\n",
    "for f in [confusion_matrix, accuracy_score]:\n",
    "    print(str(f).split()[1])\n",
    "    print(f(y_test, y_pred))\n",
    "\n",
    "# good scores - so look at the errors!"
   ]
  },
  {
   "cell_type": "code",
   "execution_count": null,
   "metadata": {},
   "outputs": [],
   "source": [
    "# ten subjects\n",
    "# ten replications\n",
    "# three conditions\n",
    "\n",
    "# 6 measurements for each one (two legs, three joints)\n",
    "# time series are 101 points long\n",
    "# so the data is actually (300 x 101 x 6), so we should represent it as such.\n",
    "\n",
    "# train-test split: \n",
    "# 7 subjects for train: should do leave-one-out validation (as in 1 subject each time)\n",
    "# 3 subjects for test: leave three subjects for test"
   ]
  }
 ],
 "metadata": {
  "kernelspec": {
   "display_name": "base",
   "language": "python",
   "name": "python3"
  },
  "language_info": {
   "codemirror_mode": {
    "name": "ipython",
    "version": 3
   },
   "file_extension": ".py",
   "mimetype": "text/x-python",
   "name": "python",
   "nbconvert_exporter": "python",
   "pygments_lexer": "ipython3",
   "version": "3.10.9"
  }
 },
 "nbformat": 4,
 "nbformat_minor": 2
}
