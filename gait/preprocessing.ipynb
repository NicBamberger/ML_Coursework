{
 "cells": [
  {
   "cell_type": "code",
   "execution_count": 27,
   "metadata": {},
   "outputs": [],
   "source": [
    "import pandas as pd\n",
    "import numpy as np\n",
    "import matplotlib.pyplot as plt\n",
    "\n",
    "import scipy.stats as sp"
   ]
  },
  {
   "cell_type": "code",
   "execution_count": 28,
   "metadata": {},
   "outputs": [],
   "source": [
    "path = \"/Users/nicbamberger/Coding/ML_Coursework/gait/data/data.csv\"\n",
    "df = pd.read_csv(path)"
   ]
  },
  {
   "cell_type": "code",
   "execution_count": 29,
   "metadata": {},
   "outputs": [],
   "source": [
    "N_SUBJECTS = 10\n",
    "N_CONDITIONS = 3\n",
    "N_REPS = 10\n",
    "N_SENSORS = 6\n",
    "N_TRIALS = N_SUBJECTS * N_CONDITIONS * N_REPS"
   ]
  },
  {
   "cell_type": "markdown",
   "metadata": {},
   "source": [
    "# Preprocessing"
   ]
  },
  {
   "cell_type": "code",
   "execution_count": 30,
   "metadata": {},
   "outputs": [],
   "source": [
    "trials = [\"subject\", \"condition\", \"replication\"]\n",
    "index_columns = trials + [\"time\"]\n",
    "df = df.set_index(index_columns)\n",
    "\n",
    "matrix = pd.DataFrame()\n",
    "joint_map = {1: \"ankle\", 2: \"knee\", 3: \"hip\"}\n",
    "leg_map = {1: \"left\", 2: \"right\"}\n",
    "\n",
    "for leg_key, leg_val in leg_map.items():\n",
    "    for joint_key, joint_val in joint_map.items():\n",
    "        matrix[f\"{leg_val}_{joint_val}\"] = df[(df.leg == leg_key) & (df.joint == joint_key)].angle\n",
    "\n",
    "rs = matrix.reset_index()\n",
    "series = pd.DataFrame((rs.subject - 1) * N_REPS * N_CONDITIONS + (rs.condition - 1) * N_REPS + rs.replication)\n",
    "matrix[\"trial\"] = series.set_index(matrix.index)\n",
    "\n",
    "\n"
   ]
  },
  {
   "cell_type": "code",
   "execution_count": 31,
   "metadata": {},
   "outputs": [
    {
     "data": {
      "text/html": [
       "<div>\n",
       "<style scoped>\n",
       "    .dataframe tbody tr th:only-of-type {\n",
       "        vertical-align: middle;\n",
       "    }\n",
       "\n",
       "    .dataframe tbody tr th {\n",
       "        vertical-align: top;\n",
       "    }\n",
       "\n",
       "    .dataframe thead th {\n",
       "        text-align: right;\n",
       "    }\n",
       "</style>\n",
       "<table border=\"1\" class=\"dataframe\">\n",
       "  <thead>\n",
       "    <tr style=\"text-align: right;\">\n",
       "      <th></th>\n",
       "      <th></th>\n",
       "      <th></th>\n",
       "      <th></th>\n",
       "      <th>left_ankle</th>\n",
       "      <th>left_knee</th>\n",
       "      <th>left_hip</th>\n",
       "      <th>right_ankle</th>\n",
       "      <th>right_knee</th>\n",
       "      <th>right_hip</th>\n",
       "      <th>trial</th>\n",
       "    </tr>\n",
       "    <tr>\n",
       "      <th>subject</th>\n",
       "      <th>condition</th>\n",
       "      <th>replication</th>\n",
       "      <th>time</th>\n",
       "      <th></th>\n",
       "      <th></th>\n",
       "      <th></th>\n",
       "      <th></th>\n",
       "      <th></th>\n",
       "      <th></th>\n",
       "      <th></th>\n",
       "    </tr>\n",
       "  </thead>\n",
       "  <tbody>\n",
       "    <tr>\n",
       "      <th rowspan=\"5\" valign=\"top\">1</th>\n",
       "      <th rowspan=\"5\" valign=\"top\">1</th>\n",
       "      <th rowspan=\"5\" valign=\"top\">1</th>\n",
       "      <th>0</th>\n",
       "      <td>4.682881</td>\n",
       "      <td>3.693683</td>\n",
       "      <td>16.607868</td>\n",
       "      <td>5.015829</td>\n",
       "      <td>2.244425</td>\n",
       "      <td>18.948290</td>\n",
       "      <td>1</td>\n",
       "    </tr>\n",
       "    <tr>\n",
       "      <th>1</th>\n",
       "      <td>5.073127</td>\n",
       "      <td>4.258876</td>\n",
       "      <td>16.851029</td>\n",
       "      <td>5.291201</td>\n",
       "      <td>3.381678</td>\n",
       "      <td>19.265300</td>\n",
       "      <td>1</td>\n",
       "    </tr>\n",
       "    <tr>\n",
       "      <th>2</th>\n",
       "      <td>5.229774</td>\n",
       "      <td>5.346945</td>\n",
       "      <td>17.170098</td>\n",
       "      <td>5.410528</td>\n",
       "      <td>4.925566</td>\n",
       "      <td>19.600469</td>\n",
       "      <td>1</td>\n",
       "    </tr>\n",
       "    <tr>\n",
       "      <th>3</th>\n",
       "      <td>5.083273</td>\n",
       "      <td>6.769831</td>\n",
       "      <td>17.504693</td>\n",
       "      <td>5.270628</td>\n",
       "      <td>6.623978</td>\n",
       "      <td>19.871755</td>\n",
       "      <td>1</td>\n",
       "    </tr>\n",
       "    <tr>\n",
       "      <th>4</th>\n",
       "      <td>4.652399</td>\n",
       "      <td>8.351716</td>\n",
       "      <td>17.806602</td>\n",
       "      <td>4.814143</td>\n",
       "      <td>8.268602</td>\n",
       "      <td>20.016564</td>\n",
       "      <td>1</td>\n",
       "    </tr>\n",
       "    <tr>\n",
       "      <th>...</th>\n",
       "      <th>...</th>\n",
       "      <th>...</th>\n",
       "      <th>...</th>\n",
       "      <td>...</td>\n",
       "      <td>...</td>\n",
       "      <td>...</td>\n",
       "      <td>...</td>\n",
       "      <td>...</td>\n",
       "      <td>...</td>\n",
       "      <td>...</td>\n",
       "    </tr>\n",
       "    <tr>\n",
       "      <th rowspan=\"5\" valign=\"top\">10</th>\n",
       "      <th rowspan=\"5\" valign=\"top\">3</th>\n",
       "      <th rowspan=\"5\" valign=\"top\">10</th>\n",
       "      <th>96</th>\n",
       "      <td>5.469052</td>\n",
       "      <td>0.964147</td>\n",
       "      <td>25.046914</td>\n",
       "      <td>-4.136161</td>\n",
       "      <td>2.616228</td>\n",
       "      <td>29.778412</td>\n",
       "      <td>300</td>\n",
       "    </tr>\n",
       "    <tr>\n",
       "      <th>97</th>\n",
       "      <td>5.994900</td>\n",
       "      <td>-1.377103</td>\n",
       "      <td>24.753520</td>\n",
       "      <td>-4.050542</td>\n",
       "      <td>0.721412</td>\n",
       "      <td>29.247559</td>\n",
       "      <td>300</td>\n",
       "    </tr>\n",
       "    <tr>\n",
       "      <th>98</th>\n",
       "      <td>6.625519</td>\n",
       "      <td>-2.884798</td>\n",
       "      <td>24.636438</td>\n",
       "      <td>-3.933841</td>\n",
       "      <td>-0.629712</td>\n",
       "      <td>28.796951</td>\n",
       "      <td>300</td>\n",
       "    </tr>\n",
       "    <tr>\n",
       "      <th>99</th>\n",
       "      <td>7.293149</td>\n",
       "      <td>-3.532651</td>\n",
       "      <td>24.695275</td>\n",
       "      <td>-3.837398</td>\n",
       "      <td>-1.438054</td>\n",
       "      <td>28.432936</td>\n",
       "      <td>300</td>\n",
       "    </tr>\n",
       "    <tr>\n",
       "      <th>100</th>\n",
       "      <td>7.877814</td>\n",
       "      <td>-3.379236</td>\n",
       "      <td>24.901665</td>\n",
       "      <td>-3.823557</td>\n",
       "      <td>-1.747282</td>\n",
       "      <td>28.136438</td>\n",
       "      <td>300</td>\n",
       "    </tr>\n",
       "  </tbody>\n",
       "</table>\n",
       "<p>30300 rows × 7 columns</p>\n",
       "</div>"
      ],
      "text/plain": [
       "                                    left_ankle  left_knee   left_hip  \\\n",
       "subject condition replication time                                     \n",
       "1       1         1           0       4.682881   3.693683  16.607868   \n",
       "                              1       5.073127   4.258876  16.851029   \n",
       "                              2       5.229774   5.346945  17.170098   \n",
       "                              3       5.083273   6.769831  17.504693   \n",
       "                              4       4.652399   8.351716  17.806602   \n",
       "...                                        ...        ...        ...   \n",
       "10      3         10          96      5.469052   0.964147  25.046914   \n",
       "                              97      5.994900  -1.377103  24.753520   \n",
       "                              98      6.625519  -2.884798  24.636438   \n",
       "                              99      7.293149  -3.532651  24.695275   \n",
       "                              100     7.877814  -3.379236  24.901665   \n",
       "\n",
       "                                    right_ankle  right_knee  right_hip  trial  \n",
       "subject condition replication time                                             \n",
       "1       1         1           0        5.015829    2.244425  18.948290      1  \n",
       "                              1        5.291201    3.381678  19.265300      1  \n",
       "                              2        5.410528    4.925566  19.600469      1  \n",
       "                              3        5.270628    6.623978  19.871755      1  \n",
       "                              4        4.814143    8.268602  20.016564      1  \n",
       "...                                         ...         ...        ...    ...  \n",
       "10      3         10          96      -4.136161    2.616228  29.778412    300  \n",
       "                              97      -4.050542    0.721412  29.247559    300  \n",
       "                              98      -3.933841   -0.629712  28.796951    300  \n",
       "                              99      -3.837398   -1.438054  28.432936    300  \n",
       "                              100     -3.823557   -1.747282  28.136438    300  \n",
       "\n",
       "[30300 rows x 7 columns]"
      ]
     },
     "execution_count": 31,
     "metadata": {},
     "output_type": "execute_result"
    }
   ],
   "source": [
    "matrix"
   ]
  },
  {
   "cell_type": "code",
   "execution_count": 32,
   "metadata": {},
   "outputs": [
    {
     "data": {
      "text/html": [
       "<div>\n",
       "<style scoped>\n",
       "    .dataframe tbody tr th:only-of-type {\n",
       "        vertical-align: middle;\n",
       "    }\n",
       "\n",
       "    .dataframe tbody tr th {\n",
       "        vertical-align: top;\n",
       "    }\n",
       "\n",
       "    .dataframe thead th {\n",
       "        text-align: right;\n",
       "    }\n",
       "</style>\n",
       "<table border=\"1\" class=\"dataframe\">\n",
       "  <thead>\n",
       "    <tr style=\"text-align: right;\">\n",
       "      <th></th>\n",
       "      <th></th>\n",
       "      <th></th>\n",
       "      <th></th>\n",
       "      <th>left_ankle</th>\n",
       "      <th>left_knee</th>\n",
       "      <th>left_hip</th>\n",
       "      <th>right_ankle</th>\n",
       "      <th>right_knee</th>\n",
       "      <th>right_hip</th>\n",
       "      <th>trial</th>\n",
       "    </tr>\n",
       "    <tr>\n",
       "      <th>subject</th>\n",
       "      <th>condition</th>\n",
       "      <th>replication</th>\n",
       "      <th>time</th>\n",
       "      <th></th>\n",
       "      <th></th>\n",
       "      <th></th>\n",
       "      <th></th>\n",
       "      <th></th>\n",
       "      <th></th>\n",
       "      <th></th>\n",
       "    </tr>\n",
       "  </thead>\n",
       "  <tbody>\n",
       "    <tr>\n",
       "      <th rowspan=\"2\" valign=\"top\">1</th>\n",
       "      <th rowspan=\"2\" valign=\"top\">1</th>\n",
       "      <th rowspan=\"2\" valign=\"top\">1</th>\n",
       "      <th>0</th>\n",
       "      <td>4.682881</td>\n",
       "      <td>3.693683</td>\n",
       "      <td>16.607868</td>\n",
       "      <td>5.015829</td>\n",
       "      <td>2.244425</td>\n",
       "      <td>18.94829</td>\n",
       "      <td>1</td>\n",
       "    </tr>\n",
       "    <tr>\n",
       "      <th>1</th>\n",
       "      <td>5.073127</td>\n",
       "      <td>4.258876</td>\n",
       "      <td>16.851029</td>\n",
       "      <td>5.291201</td>\n",
       "      <td>3.381678</td>\n",
       "      <td>19.26530</td>\n",
       "      <td>1</td>\n",
       "    </tr>\n",
       "  </tbody>\n",
       "</table>\n",
       "</div>"
      ],
      "text/plain": [
       "                                    left_ankle  left_knee   left_hip  \\\n",
       "subject condition replication time                                     \n",
       "1       1         1           0       4.682881   3.693683  16.607868   \n",
       "                              1       5.073127   4.258876  16.851029   \n",
       "\n",
       "                                    right_ankle  right_knee  right_hip  trial  \n",
       "subject condition replication time                                             \n",
       "1       1         1           0        5.015829    2.244425   18.94829      1  \n",
       "                              1        5.291201    3.381678   19.26530      1  "
      ]
     },
     "execution_count": 32,
     "metadata": {},
     "output_type": "execute_result"
    }
   ],
   "source": [
    "matrix.head(2)"
   ]
  },
  {
   "cell_type": "code",
   "execution_count": 33,
   "metadata": {},
   "outputs": [],
   "source": [
    "target = pd.Series(range(N_TRIALS), index=range(1, N_TRIALS + 1))\n",
    "target = 1 + ((target // 10) % 3)\n",
    "target.name = \"condition\"\n",
    "\n",
    "matrix = matrix.reset_index().drop(trials, axis=1).set_index([\"trial\", \"time\"])"
   ]
  },
  {
   "cell_type": "code",
   "execution_count": 34,
   "metadata": {},
   "outputs": [],
   "source": [
    "target2 = pd.Series(range(N_TRIALS * N_SENSORS), index=range(1, N_TRIALS * N_SENSORS + 1))\n",
    "target2 = 1 + ((target2 // 60) % 3)\n",
    "target2.name = \"condition\"\n",
    "\n",
    "matrix2 = matrix.reset_index().melt(id_vars=[\"trial\", \"time\"])"
   ]
  },
  {
   "cell_type": "code",
   "execution_count": 35,
   "metadata": {},
   "outputs": [],
   "source": [
    "means = matrix.groupby(\"trial\").mean()\n",
    "means.columns=[f\"{col}_mean\" for col in matrix.columns]\n",
    "stdevs = matrix.groupby(\"trial\").std()\n",
    "stdevs.columns=[f\"{col}_stdev\" for col in matrix.columns]\n",
    "other_features = pd.DataFrame()\n",
    "\n",
    "means = means.T.iloc[0:6].T"
   ]
  },
  {
   "cell_type": "code",
   "execution_count": 36,
   "metadata": {},
   "outputs": [],
   "source": [
    "corrs = pd.DataFrame()\n",
    "covs = pd.DataFrame()\n",
    "\n",
    "for body_part in [\"ankle\", \"knee\"]:\n",
    "\n",
    "    half = matrix[matrix.index.get_level_values(1) > 50]\n",
    "    body_parts = half[[f\"left_{body_part}\", f\"right_{body_part}\"]]\n",
    "    corrs[body_part] = body_parts.groupby([\"trial\"]).corr(method=\"pearson\").groupby(\"trial\")[f\"right_{body_part}\"].first()\n",
    "    covs[body_part] = body_parts.groupby([\"trial\"]).cov().groupby(\"trial\")[f\"right_{body_part}\"].first()\n"
   ]
  },
  {
   "cell_type": "code",
   "execution_count": 37,
   "metadata": {},
   "outputs": [],
   "source": [
    "# two sets of features:\n",
    "# base: mean of some of the sensors\n",
    "# correlation model\n",
    "# fft model\n",
    "\n",
    "# extension: only look at the second half"
   ]
  },
  {
   "cell_type": "code",
   "execution_count": 38,
   "metadata": {},
   "outputs": [],
   "source": [
    "grouped = matrix2.groupby([\"trial\", \"variable\"])\n",
    "means2 = grouped.mean().drop(\"time\", axis=1)\n",
    "means2.name = \"mean\"\n",
    "stdevs2 = grouped.std().drop(\"time\", axis=1)\n",
    "low_q = grouped.quantile(0.25).drop(\"time\", axis=1)\n",
    "high_q = grouped.quantile(0.75).drop(\"time\", axis=1)"
   ]
  },
  {
   "cell_type": "code",
   "execution_count": 39,
   "metadata": {},
   "outputs": [],
   "source": [
    "features = pd.concat([covs], axis=1)\n",
    "\n",
    "features2 = pd.concat([means2, stdevs2, low_q, high_q], axis=1)\n",
    "features2.columns = [\"mean\", \"std\", \"low\", \"high\"]"
   ]
  },
  {
   "cell_type": "code",
   "execution_count": 40,
   "metadata": {},
   "outputs": [],
   "source": [
    "from scipy.fft import fft, ifft, fftfreq\n"
   ]
  },
  {
   "cell_type": "markdown",
   "metadata": {},
   "source": [
    "# CV fns"
   ]
  },
  {
   "cell_type": "code",
   "execution_count": 41,
   "metadata": {},
   "outputs": [],
   "source": [
    "def cross_validation_splits(train_validation_data, targets, number_of_folds):\n",
    "    \n",
    "    # Convert input data to numpy array if it's not already\n",
    "    train_validation_data = np.array(train_validation_data)\n",
    "    targets = np.array(targets)\n",
    "\n",
    "    # Check if input_data and targets have the same number of rows\n",
    "    if train_validation_data.shape[0] != targets.shape[0]:\n",
    "        print(\"Input Data and Targets do not have the same number of entries.\")\n",
    "        print(f\"input_data.shape = {train_validation_data.shape}\")\n",
    "\n",
    "    # Randomly assign each data point to a fold\n",
    "    fold_assignments = np.random.randint(0, number_of_folds, size=targets.size)\n",
    "    print(fold_assignments)\n",
    "\n",
    "    # Saving the different splits in a list\n",
    "    folds = []\n",
    "\n",
    "    for f in range(number_of_folds):\n",
    "        train_filter = (fold_assignments != f)\n",
    "        valid_filter = ~train_filter\n",
    "\n",
    "        train_inputs = train_validation_data[train_filter, :]\n",
    "        train_targets = targets[train_filter]\n",
    "        valid_inputs = train_validation_data[valid_filter, :]\n",
    "        valid_targets = targets[valid_filter]\n",
    "\n",
    "        fold = {\n",
    "            \"train_inputs\": train_inputs,\n",
    "            \"train_targets\": train_targets,\n",
    "            \"valid_inputs\": valid_inputs,\n",
    "            \"valid_targets\": valid_targets\n",
    "        }\n",
    "        folds.append(fold)\n",
    "\n",
    "        print(f\"For fold {f}\")\n",
    "        print(f\"\\ttrain_inputs.shape = {train_inputs.shape}\")\n",
    "        print(f\"\\ttrain_targets.shape = {train_targets.shape}\")\n",
    "        print(f\"\\tvalid_inputs.shape = {valid_inputs.shape}\")\n",
    "        print(f\"\\tvalid_targets.shape = {valid_targets.shape}\")\n",
    "\n",
    "    return folds"
   ]
  },
  {
   "cell_type": "code",
   "execution_count": 42,
   "metadata": {},
   "outputs": [],
   "source": [
    "def cross_validate(\n",
    "    X_train,\n",
    "    y_train, \n",
    "    folds, \n",
    "    model,\n",
    "    metric\n",
    "    ):\n",
    "\n",
    "    # logic of CV\n",
    "    n = len(X_train)\n",
    "    n_per_fold = n // folds\n",
    "    metric_values = np.zeros(folds)\n",
    "\n",
    "    for i in range(folds):\n",
    "        validation_index = range(i * n_per_fold, (i+1) * n_per_fold)\n",
    "        X_train_fold = X_train[~X_train.index.isin(validation_index)]\n",
    "        y_train_fold = y_train[~y_train.index.isin(validation_index)]\n",
    "        X_test_fold = X_train[X_train.index.isin(validation_index)]\n",
    "        y_test_fold = y_train[y_train.index.isin(validation_index)]\n",
    "\n",
    "        model.fit(X_train_fold, y_train_fold)\n",
    "\n",
    "        y_pred_fold = model.predict(X_test_fold)\n",
    "        metric_values[i] = (metric(y_test_fold, y_pred_fold))\n",
    "\n",
    "    return metric_values"
   ]
  },
  {
   "cell_type": "markdown",
   "metadata": {},
   "source": [
    "# Testing Model"
   ]
  },
  {
   "cell_type": "code",
   "execution_count": 43,
   "metadata": {},
   "outputs": [],
   "source": [
    "from sklearn import linear_model, ensemble, discriminant_analysis\n",
    "from sklearn.metrics import f1_score, accuracy_score, confusion_matrix, log_loss, auc, roc_auc_score\n",
    "import matplotlib.pyplot as plt\n",
    "import seaborn as sns"
   ]
  },
  {
   "cell_type": "code",
   "execution_count": 44,
   "metadata": {},
   "outputs": [],
   "source": [
    "# from functions.cross_validation import *"
   ]
  },
  {
   "cell_type": "code",
   "execution_count": 45,
   "metadata": {},
   "outputs": [],
   "source": [
    "TRAIN_SUBJECTS = 7\n",
    "TRAIN_TRIALS = N_TRIALS * TRAIN_SUBJECTS / N_SUBJECTS\n",
    "\n",
    "features_used = features\n",
    "target_used = target\n",
    "\n",
    "X = features_used.copy()\n",
    "y = target_used.copy()\n",
    "\n",
    "X_split = TRAIN_TRIALS\n",
    "y_split = (X_split)\n",
    "\n",
    "X_train = X.loc[:X_split]\n",
    "y_train = y.loc[:y_split]\n",
    "X_test = X.loc[X_split+1:]\n",
    "y_test = y.loc[y_split +1:]"
   ]
  },
  {
   "cell_type": "code",
   "execution_count": 46,
   "metadata": {},
   "outputs": [],
   "source": [
    "# write a fn that takes features and targets, then spits out the results\n",
    "# within this"
   ]
  },
  {
   "cell_type": "code",
   "execution_count": 47,
   "metadata": {},
   "outputs": [],
   "source": [
    "# cross_validate(X_train, y_train, 10, model=linear_model.LogisticRegression(), metric=accuracy_score)"
   ]
  },
  {
   "cell_type": "code",
   "execution_count": 48,
   "metadata": {},
   "outputs": [],
   "source": [
    "# here we will use cross validation on X_train, y_train (leaving out 1 subject each time!)"
   ]
  },
  {
   "cell_type": "code",
   "execution_count": 49,
   "metadata": {},
   "outputs": [
    {
     "name": "stdout",
     "output_type": "stream",
     "text": [
      "(90, 2)\n",
      "(90,)\n"
     ]
    }
   ],
   "source": [
    "print(X_test.shape)\n",
    "print(y_test.shape)"
   ]
  },
  {
   "cell_type": "code",
   "execution_count": 50,
   "metadata": {},
   "outputs": [
    {
     "data": {
      "text/html": [
       "<style>#sk-container-id-2 {color: black;}#sk-container-id-2 pre{padding: 0;}#sk-container-id-2 div.sk-toggleable {background-color: white;}#sk-container-id-2 label.sk-toggleable__label {cursor: pointer;display: block;width: 100%;margin-bottom: 0;padding: 0.3em;box-sizing: border-box;text-align: center;}#sk-container-id-2 label.sk-toggleable__label-arrow:before {content: \"▸\";float: left;margin-right: 0.25em;color: #696969;}#sk-container-id-2 label.sk-toggleable__label-arrow:hover:before {color: black;}#sk-container-id-2 div.sk-estimator:hover label.sk-toggleable__label-arrow:before {color: black;}#sk-container-id-2 div.sk-toggleable__content {max-height: 0;max-width: 0;overflow: hidden;text-align: left;background-color: #f0f8ff;}#sk-container-id-2 div.sk-toggleable__content pre {margin: 0.2em;color: black;border-radius: 0.25em;background-color: #f0f8ff;}#sk-container-id-2 input.sk-toggleable__control:checked~div.sk-toggleable__content {max-height: 200px;max-width: 100%;overflow: auto;}#sk-container-id-2 input.sk-toggleable__control:checked~label.sk-toggleable__label-arrow:before {content: \"▾\";}#sk-container-id-2 div.sk-estimator input.sk-toggleable__control:checked~label.sk-toggleable__label {background-color: #d4ebff;}#sk-container-id-2 div.sk-label input.sk-toggleable__control:checked~label.sk-toggleable__label {background-color: #d4ebff;}#sk-container-id-2 input.sk-hidden--visually {border: 0;clip: rect(1px 1px 1px 1px);clip: rect(1px, 1px, 1px, 1px);height: 1px;margin: -1px;overflow: hidden;padding: 0;position: absolute;width: 1px;}#sk-container-id-2 div.sk-estimator {font-family: monospace;background-color: #f0f8ff;border: 1px dotted black;border-radius: 0.25em;box-sizing: border-box;margin-bottom: 0.5em;}#sk-container-id-2 div.sk-estimator:hover {background-color: #d4ebff;}#sk-container-id-2 div.sk-parallel-item::after {content: \"\";width: 100%;border-bottom: 1px solid gray;flex-grow: 1;}#sk-container-id-2 div.sk-label:hover label.sk-toggleable__label {background-color: #d4ebff;}#sk-container-id-2 div.sk-serial::before {content: \"\";position: absolute;border-left: 1px solid gray;box-sizing: border-box;top: 0;bottom: 0;left: 50%;z-index: 0;}#sk-container-id-2 div.sk-serial {display: flex;flex-direction: column;align-items: center;background-color: white;padding-right: 0.2em;padding-left: 0.2em;position: relative;}#sk-container-id-2 div.sk-item {position: relative;z-index: 1;}#sk-container-id-2 div.sk-parallel {display: flex;align-items: stretch;justify-content: center;background-color: white;position: relative;}#sk-container-id-2 div.sk-item::before, #sk-container-id-2 div.sk-parallel-item::before {content: \"\";position: absolute;border-left: 1px solid gray;box-sizing: border-box;top: 0;bottom: 0;left: 50%;z-index: -1;}#sk-container-id-2 div.sk-parallel-item {display: flex;flex-direction: column;z-index: 1;position: relative;background-color: white;}#sk-container-id-2 div.sk-parallel-item:first-child::after {align-self: flex-end;width: 50%;}#sk-container-id-2 div.sk-parallel-item:last-child::after {align-self: flex-start;width: 50%;}#sk-container-id-2 div.sk-parallel-item:only-child::after {width: 0;}#sk-container-id-2 div.sk-dashed-wrapped {border: 1px dashed gray;margin: 0 0.4em 0.5em 0.4em;box-sizing: border-box;padding-bottom: 0.4em;background-color: white;}#sk-container-id-2 div.sk-label label {font-family: monospace;font-weight: bold;display: inline-block;line-height: 1.2em;}#sk-container-id-2 div.sk-label-container {text-align: center;}#sk-container-id-2 div.sk-container {/* jupyter's `normalize.less` sets `[hidden] { display: none; }` but bootstrap.min.css set `[hidden] { display: none !important; }` so we also need the `!important` here to be able to override the default hidden behavior on the sphinx rendered scikit-learn.org. See: https://github.com/scikit-learn/scikit-learn/issues/21755 */display: inline-block !important;position: relative;}#sk-container-id-2 div.sk-text-repr-fallback {display: none;}</style><div id=\"sk-container-id-2\" class=\"sk-top-container\"><div class=\"sk-text-repr-fallback\"><pre>LinearDiscriminantAnalysis()</pre><b>In a Jupyter environment, please rerun this cell to show the HTML representation or trust the notebook. <br />On GitHub, the HTML representation is unable to render, please try loading this page with nbviewer.org.</b></div><div class=\"sk-container\" hidden><div class=\"sk-item\"><div class=\"sk-estimator sk-toggleable\"><input class=\"sk-toggleable__control sk-hidden--visually\" id=\"sk-estimator-id-2\" type=\"checkbox\" checked><label for=\"sk-estimator-id-2\" class=\"sk-toggleable__label sk-toggleable__label-arrow\">LinearDiscriminantAnalysis</label><div class=\"sk-toggleable__content\"><pre>LinearDiscriminantAnalysis()</pre></div></div></div></div></div>"
      ],
      "text/plain": [
       "LinearDiscriminantAnalysis()"
      ]
     },
     "execution_count": 50,
     "metadata": {},
     "output_type": "execute_result"
    }
   ],
   "source": [
    "# we can change this, need to have reasoning for the model\n",
    "model = linear_model.LogisticRegression(max_iter=1000, multi_class=\"multinomial\") \n",
    "# model = ensemble.RandomForestClassifier()\n",
    "model = discriminant_analysis.LinearDiscriminantAnalysis(solver=\"svd\")\n",
    "\n",
    "model.fit(X_train, y_train)"
   ]
  },
  {
   "cell_type": "code",
   "execution_count": 51,
   "metadata": {},
   "outputs": [
    {
     "data": {
      "text/plain": [
       "<Axes: >"
      ]
     },
     "execution_count": 51,
     "metadata": {},
     "output_type": "execute_result"
    },
    {
     "data": {
      "image/png": "[encoded data removed]",
      "text/plain": [
       "<Figure size 640x480 with 2 Axes>"
      ]
     },
     "metadata": {},
     "output_type": "display_data"
    }
   ],
   "source": [
    "sns.heatmap(features.corr(), center=0)"
   ]
  },
  {
   "cell_type": "code",
   "execution_count": 52,
   "metadata": {},
   "outputs": [
    {
     "name": "stdout",
     "output_type": "stream",
     "text": [
      "confusion_matrix\n",
      "[[30  0  0]\n",
      " [ 0 30  0]\n",
      " [ 0  0 30]]\n",
      "accuracy_score\n",
      "1.0\n",
      "0.002734646994062154\n"
     ]
    }
   ],
   "source": [
    "y_pred = model.predict(X_test)\n",
    "y_probs = model.predict_proba(X_test)\n",
    "\n",
    "for f in [confusion_matrix, accuracy_score]:\n",
    "    print(str(f).split()[1])\n",
    "    print(f(y_test, y_pred))\n",
    "\n",
    "# wants clear divisions between classes - would work\n",
    "print(log_loss(y_test, y_probs))\n",
    "\n",
    "# good scores - so look at the errors!"
   ]
  },
  {
   "cell_type": "code",
   "execution_count": 53,
   "metadata": {},
   "outputs": [
    {
     "data": {
      "text/plain": [
       "<Axes: >"
      ]
     },
     "execution_count": 53,
     "metadata": {},
     "output_type": "execute_result"
    },
    {
     "data": {
      "image/png": "[encoded data removed]",
      "text/plain": [
       "<Figure size 640x480 with 1 Axes>"
      ]
     },
     "metadata": {},
     "output_type": "display_data"
    }
   ],
   "source": [
    "pd.DataFrame(y_probs).plot()"
   ]
  },
  {
   "cell_type": "code",
   "execution_count": 54,
   "metadata": {},
   "outputs": [],
   "source": [
    "results = pd.concat([pd.Series(y_test).reset_index(drop=True), pd.Series(y_pred)], axis=1, ignore_index=False).sort_values(by=\"condition\")\n",
    "results.columns =[\"true\", \"pred\"]"
   ]
  },
  {
   "cell_type": "code",
   "execution_count": 55,
   "metadata": {},
   "outputs": [],
   "source": [
    "# ten subjects\n",
    "# ten replications\n",
    "# three conditions\n",
    "\n",
    "# 6 measurements for each one (two legs, three joints)\n",
    "# time series are 101 points long\n",
    "# so the data is actually (300 x 101 x 6), so we should represent it as such.\n",
    "\n",
    "# train-test split: \n",
    "# 7 subjects for train: should do leave-one-out validation (as in 1 subject each time)\n",
    "# 3 subjects for test: leave three subjects for test"
   ]
  },
  {
   "cell_type": "code",
   "execution_count": null,
   "metadata": {},
   "outputs": [],
   "source": []
  }
 ],
 "metadata": {
  "kernelspec": {
   "display_name": "base",
   "language": "python",
   "name": "python3"
  },
  "language_info": {
   "codemirror_mode": {
    "name": "ipython",
    "version": 3
   },
   "file_extension": ".py",
   "mimetype": "text/x-python",
   "name": "python",
   "nbconvert_exporter": "python",
   "pygments_lexer": "ipython3",
   "version": "3.10.9"
  }
 },
 "nbformat": 4,
 "nbformat_minor": 2
}
