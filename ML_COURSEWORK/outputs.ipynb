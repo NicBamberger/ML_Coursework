{
 "cells": [
  {
   "cell_type": "code",
   "execution_count": 1,
   "metadata": {},
   "outputs": [],
   "source": [
    "import time"
   ]
  },
  {
   "cell_type": "code",
   "execution_count": 2,
   "metadata": {},
   "outputs": [],
   "source": [
    "start = time.time()"
   ]
  },
  {
   "cell_type": "code",
   "execution_count": 3,
   "metadata": {},
   "outputs": [],
   "source": [
    "import pandas as pd\n",
    "import numpy as np\n",
    "import scipy.stats\n",
    "from sklearn import ensemble\n",
    "import matplotlib.pyplot as plt\n",
    "import os\n",
    "\n",
    "from functions.pipeline import *"
   ]
  },
  {
   "cell_type": "code",
   "execution_count": 4,
   "metadata": {},
   "outputs": [],
   "source": [
    "SEED = 123\n",
    "np.random.seed(SEED)"
   ]
  },
  {
   "cell_type": "code",
   "execution_count": 5,
   "metadata": {},
   "outputs": [],
   "source": [
    "p = os.path.dirname(os.path.realpath(__name__))\n",
    "path = f\"{p}/data/data.csv\"\n",
    "df = pd.read_csv(path)\n",
    "matrix, target = Gx.processing(df)"
   ]
  },
  {
   "cell_type": "code",
   "execution_count": 6,
   "metadata": {},
   "outputs": [
    {
     "data": {
      "text/html": [
       "<div>\n",
       "<style scoped>\n",
       "    .dataframe tbody tr th:only-of-type {\n",
       "        vertical-align: middle;\n",
       "    }\n",
       "\n",
       "    .dataframe tbody tr th {\n",
       "        vertical-align: top;\n",
       "    }\n",
       "\n",
       "    .dataframe thead th {\n",
       "        text-align: right;\n",
       "    }\n",
       "</style>\n",
       "<table border=\"1\" class=\"dataframe\">\n",
       "  <thead>\n",
       "    <tr style=\"text-align: right;\">\n",
       "      <th></th>\n",
       "      <th>subject</th>\n",
       "      <th>condition</th>\n",
       "      <th>replication</th>\n",
       "      <th>leg</th>\n",
       "      <th>joint</th>\n",
       "      <th>time</th>\n",
       "      <th>angle</th>\n",
       "    </tr>\n",
       "  </thead>\n",
       "  <tbody>\n",
       "    <tr>\n",
       "      <th>0</th>\n",
       "      <td>1</td>\n",
       "      <td>1</td>\n",
       "      <td>1</td>\n",
       "      <td>1</td>\n",
       "      <td>1</td>\n",
       "      <td>0</td>\n",
       "      <td>4.682881</td>\n",
       "    </tr>\n",
       "    <tr>\n",
       "      <th>1</th>\n",
       "      <td>1</td>\n",
       "      <td>1</td>\n",
       "      <td>1</td>\n",
       "      <td>1</td>\n",
       "      <td>1</td>\n",
       "      <td>1</td>\n",
       "      <td>5.073127</td>\n",
       "    </tr>\n",
       "  </tbody>\n",
       "</table>\n",
       "</div>"
      ],
      "text/plain": [
       "   subject  condition  replication  leg  joint  time     angle\n",
       "0        1          1            1    1      1     0  4.682881\n",
       "1        1          1            1    1      1     1  5.073127"
      ]
     },
     "execution_count": 6,
     "metadata": {},
     "output_type": "execute_result"
    }
   ],
   "source": [
    "df.head(2)"
   ]
  },
  {
   "cell_type": "code",
   "execution_count": 7,
   "metadata": {},
   "outputs": [
    {
     "data": {
      "text/html": [
       "<div>\n",
       "<style scoped>\n",
       "    .dataframe tbody tr th:only-of-type {\n",
       "        vertical-align: middle;\n",
       "    }\n",
       "\n",
       "    .dataframe tbody tr th {\n",
       "        vertical-align: top;\n",
       "    }\n",
       "\n",
       "    .dataframe thead th {\n",
       "        text-align: right;\n",
       "    }\n",
       "</style>\n",
       "<table border=\"1\" class=\"dataframe\">\n",
       "  <thead>\n",
       "    <tr style=\"text-align: right;\">\n",
       "      <th></th>\n",
       "      <th></th>\n",
       "      <th>left_ankle</th>\n",
       "      <th>left_knee</th>\n",
       "      <th>left_hip</th>\n",
       "      <th>right_ankle</th>\n",
       "      <th>right_knee</th>\n",
       "      <th>right_hip</th>\n",
       "    </tr>\n",
       "    <tr>\n",
       "      <th>trial</th>\n",
       "      <th>time</th>\n",
       "      <th></th>\n",
       "      <th></th>\n",
       "      <th></th>\n",
       "      <th></th>\n",
       "      <th></th>\n",
       "      <th></th>\n",
       "    </tr>\n",
       "  </thead>\n",
       "  <tbody>\n",
       "    <tr>\n",
       "      <th rowspan=\"2\" valign=\"top\">1</th>\n",
       "      <th>0</th>\n",
       "      <td>4.682881</td>\n",
       "      <td>3.693683</td>\n",
       "      <td>16.607868</td>\n",
       "      <td>5.015829</td>\n",
       "      <td>2.244425</td>\n",
       "      <td>18.94829</td>\n",
       "    </tr>\n",
       "    <tr>\n",
       "      <th>1</th>\n",
       "      <td>5.073127</td>\n",
       "      <td>4.258876</td>\n",
       "      <td>16.851029</td>\n",
       "      <td>5.291201</td>\n",
       "      <td>3.381678</td>\n",
       "      <td>19.26530</td>\n",
       "    </tr>\n",
       "  </tbody>\n",
       "</table>\n",
       "</div>"
      ],
      "text/plain": [
       "            left_ankle  left_knee   left_hip  right_ankle  right_knee  \\\n",
       "trial time                                                              \n",
       "1     0       4.682881   3.693683  16.607868     5.015829    2.244425   \n",
       "      1       5.073127   4.258876  16.851029     5.291201    3.381678   \n",
       "\n",
       "            right_hip  \n",
       "trial time             \n",
       "1     0      18.94829  \n",
       "      1      19.26530  "
      ]
     },
     "execution_count": 7,
     "metadata": {},
     "output_type": "execute_result"
    }
   ],
   "source": [
    "matrix.head(2)"
   ]
  },
  {
   "cell_type": "code",
   "execution_count": 8,
   "metadata": {},
   "outputs": [
    {
     "data": {
      "text/plain": [
       "1    1\n",
       "2    1\n",
       "Name: condition, dtype: int64"
      ]
     },
     "execution_count": 8,
     "metadata": {},
     "output_type": "execute_result"
    }
   ],
   "source": [
    "target.head(2)"
   ]
  },
  {
   "cell_type": "code",
   "execution_count": 9,
   "metadata": {},
   "outputs": [
    {
     "data": {
      "text/plain": [
       "<Axes: xlabel='time'>"
      ]
     },
     "execution_count": 9,
     "metadata": {},
     "output_type": "execute_result"
    },
    {
     "data": {
      "image/png": "[encoded data removed]",
      "text/plain": [
       "<Figure size 640x480 with 1 Axes>"
      ]
     },
     "metadata": {},
     "output_type": "display_data"
    }
   ],
   "source": [
    "# knee brace\n",
    "subject_no = 2\n",
    "condition_no = 1\n",
    "rep_no = 3\n",
    "idx = (N_REPS * N_CONDITIONS) * (subject_no - 1) + N_REPS * (condition_no - 1) + (rep_no % N_REPS)\n",
    "matrix.loc[idx, :].plot()"
   ]
  },
  {
   "cell_type": "markdown",
   "metadata": {},
   "source": [
    "# Feature Extraction"
   ]
  },
  {
   "cell_type": "code",
   "execution_count": 10,
   "metadata": {},
   "outputs": [],
   "source": [
    "n_splits = 4\n",
    "feature_sets = Gx.create_feature_sets(matrix, n_splits)\n",
    "feature_set_names = [\"base\"] + [f\"covs_split_{i}\" for i in range(1, n_splits + 1)]\n",
    "feature_set_dict = dict(zip(feature_set_names, feature_sets))"
   ]
  },
  {
   "cell_type": "code",
   "execution_count": 11,
   "metadata": {},
   "outputs": [
    {
     "data": {
      "text/html": [
       "<div>\n",
       "<style scoped>\n",
       "    .dataframe tbody tr th:only-of-type {\n",
       "        vertical-align: middle;\n",
       "    }\n",
       "\n",
       "    .dataframe tbody tr th {\n",
       "        vertical-align: top;\n",
       "    }\n",
       "\n",
       "    .dataframe thead th {\n",
       "        text-align: right;\n",
       "    }\n",
       "</style>\n",
       "<table border=\"1\" class=\"dataframe\">\n",
       "  <thead>\n",
       "    <tr style=\"text-align: right;\">\n",
       "      <th></th>\n",
       "      <th>left_ankle_mean</th>\n",
       "      <th>left_knee_mean</th>\n",
       "      <th>left_hip_mean</th>\n",
       "      <th>right_ankle_mean</th>\n",
       "      <th>right_knee_mean</th>\n",
       "      <th>right_hip_mean</th>\n",
       "    </tr>\n",
       "    <tr>\n",
       "      <th>trial</th>\n",
       "      <th></th>\n",
       "      <th></th>\n",
       "      <th></th>\n",
       "      <th></th>\n",
       "      <th></th>\n",
       "      <th></th>\n",
       "    </tr>\n",
       "  </thead>\n",
       "  <tbody>\n",
       "    <tr>\n",
       "      <th>1</th>\n",
       "      <td>7.850984</td>\n",
       "      <td>21.860145</td>\n",
       "      <td>4.597241</td>\n",
       "      <td>7.061943</td>\n",
       "      <td>22.231482</td>\n",
       "      <td>5.737394</td>\n",
       "    </tr>\n",
       "    <tr>\n",
       "      <th>2</th>\n",
       "      <td>7.003371</td>\n",
       "      <td>22.046200</td>\n",
       "      <td>2.934972</td>\n",
       "      <td>7.019926</td>\n",
       "      <td>24.393793</td>\n",
       "      <td>7.028008</td>\n",
       "    </tr>\n",
       "  </tbody>\n",
       "</table>\n",
       "</div>"
      ],
      "text/plain": [
       "       left_ankle_mean  left_knee_mean  left_hip_mean  right_ankle_mean  \\\n",
       "trial                                                                     \n",
       "1             7.850984       21.860145       4.597241          7.061943   \n",
       "2             7.003371       22.046200       2.934972          7.019926   \n",
       "\n",
       "       right_knee_mean  right_hip_mean  \n",
       "trial                                   \n",
       "1            22.231482        5.737394  \n",
       "2            24.393793        7.028008  "
      ]
     },
     "execution_count": 11,
     "metadata": {},
     "output_type": "execute_result"
    }
   ],
   "source": [
    "feature_set_dict[\"base\"].head(2)"
   ]
  },
  {
   "cell_type": "code",
   "execution_count": 12,
   "metadata": {},
   "outputs": [
    {
     "data": {
      "text/html": [
       "<div>\n",
       "<style scoped>\n",
       "    .dataframe tbody tr th:only-of-type {\n",
       "        vertical-align: middle;\n",
       "    }\n",
       "\n",
       "    .dataframe tbody tr th {\n",
       "        vertical-align: top;\n",
       "    }\n",
       "\n",
       "    .dataframe thead th {\n",
       "        text-align: right;\n",
       "    }\n",
       "</style>\n",
       "<table border=\"1\" class=\"dataframe\">\n",
       "  <thead>\n",
       "    <tr style=\"text-align: right;\">\n",
       "      <th></th>\n",
       "      <th>ankle_1_1</th>\n",
       "      <th>knee_1_1</th>\n",
       "    </tr>\n",
       "    <tr>\n",
       "      <th>trial</th>\n",
       "      <th></th>\n",
       "      <th></th>\n",
       "    </tr>\n",
       "  </thead>\n",
       "  <tbody>\n",
       "    <tr>\n",
       "      <th>1</th>\n",
       "      <td>19.994342</td>\n",
       "      <td>332.00362</td>\n",
       "    </tr>\n",
       "    <tr>\n",
       "      <th>2</th>\n",
       "      <td>21.547690</td>\n",
       "      <td>370.86164</td>\n",
       "    </tr>\n",
       "  </tbody>\n",
       "</table>\n",
       "</div>"
      ],
      "text/plain": [
       "       ankle_1_1   knee_1_1\n",
       "trial                      \n",
       "1      19.994342  332.00362\n",
       "2      21.547690  370.86164"
      ]
     },
     "execution_count": 12,
     "metadata": {},
     "output_type": "execute_result"
    }
   ],
   "source": [
    "feature_set_dict[\"covs_split_1\"].head(2)"
   ]
  },
  {
   "cell_type": "markdown",
   "metadata": {},
   "source": [
    "# Testing Model"
   ]
  },
  {
   "cell_type": "code",
   "execution_count": 13,
   "metadata": {},
   "outputs": [
    {
     "name": "stdout",
     "output_type": "stream",
     "text": [
      "\n",
      "\n",
      "Set 1:\n",
      "\n",
      "4% complete.\n",
      "8% complete.\n",
      "12% complete.\n",
      "16% complete.\n",
      "20% complete.\n",
      "24% complete.\n",
      "28% complete.\n",
      "32% complete.\n",
      "36% complete.\n",
      "40% complete.\n"
     ]
    }
   ],
   "source": [
    "feature_valid_errors = []\n",
    "optimals = []\n",
    "\n",
    "for i, features in enumerate(feature_sets):\n",
    "    print(f\"\\n\\nSet {i+1}:\\n\")\n",
    "    all_errors, optimal = Gx.grid_search(features, target)\n",
    "\n",
    "    optimals.append(optimal)\n",
    "    feature_valid_errors.append(optimal.mean_error)"
   ]
  },
  {
   "cell_type": "code",
   "execution_count": null,
   "metadata": {},
   "outputs": [],
   "source": [
    "hyperparameter_choices = dict(zip(feature_set_names, optimals))\n",
    "\n",
    "valid_errors = dict(zip(feature_set_names, feature_valid_errors))\n",
    "lowest_error_idx = pd.Series(valid_errors).argmin()\n",
    "optimal_feature_set_name = list(valid_errors)[lowest_error_idx]"
   ]
  },
  {
   "cell_type": "code",
   "execution_count": null,
   "metadata": {},
   "outputs": [],
   "source": [
    "valid_errors"
   ]
  },
  {
   "cell_type": "code",
   "execution_count": null,
   "metadata": {},
   "outputs": [],
   "source": [
    "optimal_feature_set_name"
   ]
  },
  {
   "cell_type": "code",
   "execution_count": null,
   "metadata": {},
   "outputs": [],
   "source": [
    "z = scipy.stats.norm.ppf(.95)\n",
    "optimal_hps = hyperparameter_choices[optimal_feature_set_name]\n",
    "\n",
    "lower_conf = optimal_hps.mean_error - z * optimal_hps.stdev_error \n",
    "lower_conf = max(0, lower_conf)\n",
    "upper_conf = optimal_hps.mean_error + z * optimal_hps.stdev_error \n",
    "conf_interval = (lower_conf, upper_conf)\n",
    "conf_interval"
   ]
  },
  {
   "cell_type": "code",
   "execution_count": null,
   "metadata": {},
   "outputs": [],
   "source": [
    "hyperparams = [\"max_depth\", \"min_impurity_decrease\"]\n",
    "indexed_errors = all_errors.set_index(hyperparams)\n",
    "indexed_errors.mean_error"
   ]
  },
  {
   "cell_type": "markdown",
   "metadata": {},
   "source": [
    "# Test Data"
   ]
  },
  {
   "cell_type": "code",
   "execution_count": null,
   "metadata": {},
   "outputs": [],
   "source": [
    "features = feature_set_dict[optimal_feature_set_name]\n",
    "X_train, y_train, X_test, y_test = Gx.train_test_split(features, target)\n",
    "\n",
    "model = ensemble.GradientBoostingClassifier(\n",
    "    n_estimators=N_ESTIMATORS, \n",
    "    max_depth=int(optimal_hps.loc[\"max_depth\"]), \n",
    "    min_impurity_decrease=float(optimal_hps.loc[\"min_impurity_decrease\"]), \n",
    "    loss=\"log_loss\"\n",
    "    )\n",
    "\n",
    "error_test, y_test_probs = Gx.run_model(X_train, y_train, X_test, y_test, model)"
   ]
  },
  {
   "cell_type": "code",
   "execution_count": null,
   "metadata": {},
   "outputs": [],
   "source": [
    "error_test # essentially zero!"
   ]
  },
  {
   "cell_type": "code",
   "execution_count": null,
   "metadata": {},
   "outputs": [],
   "source": [
    "pd.DataFrame(y_test_probs).plot()"
   ]
  },
  {
   "cell_type": "code",
   "execution_count": null,
   "metadata": {},
   "outputs": [],
   "source": [
    "# ten subjects\n",
    "# ten replications\n",
    "# three conditions\n",
    "\n",
    "# 6 measurements for each one (two legs, three joints)\n",
    "# time series are 101 points long\n",
    "# so the data is actually (300 x 101 x 6), so we should represent it as such.\n",
    "\n",
    "# train-test split: \n",
    "# 7 subjects for train: should do leave-one-out validation (as in 1 subject each time)\n",
    "# 3 subjects for test: leave three subjects for test"
   ]
  },
  {
   "cell_type": "code",
   "execution_count": null,
   "metadata": {},
   "outputs": [],
   "source": [
    "# to do:\n",
    "\n",
    "# create cov features by splitting the data (e.g. first half / second half)"
   ]
  },
  {
   "cell_type": "code",
   "execution_count": null,
   "metadata": {},
   "outputs": [],
   "source": [
    "end = time.time()\n",
    "\n",
    "time_taken = round(end - start, 2)\n",
    "print(f\"Time taken: {time_taken}s\")"
   ]
  },
  {
   "cell_type": "code",
   "execution_count": null,
   "metadata": {},
   "outputs": [],
   "source": []
  }
 ],
 "metadata": {
  "kernelspec": {
   "display_name": "base",
   "language": "python",
   "name": "python3"
  },
  "language_info": {
   "codemirror_mode": {
    "name": "ipython",
    "version": 3
   },
   "file_extension": ".py",
   "mimetype": "text/x-python",
   "name": "python",
   "nbconvert_exporter": "python",
   "pygments_lexer": "ipython3",
   "version": "3.10.9"
  }
 },
 "nbformat": 4,
 "nbformat_minor": 2
}
