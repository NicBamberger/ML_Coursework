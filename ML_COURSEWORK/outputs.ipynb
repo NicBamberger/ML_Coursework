{
 "cells": [
  {
   "cell_type": "code",
   "execution_count": 1,
   "metadata": {},
   "outputs": [],
   "source": [
    "import pandas as pd\n",
    "import numpy as np\n",
    "import scipy.stats as sp\n",
    "\n",
    "import matplotlib.pyplot as plt\n",
    "import seaborn as sns\n",
    "\n",
    "import os\n",
    "\n",
    "from sklearn import linear_model, ensemble, discriminant_analysis\n",
    "from sklearn.metrics import f1_score, accuracy_score, confusion_matrix, log_loss, auc, roc_auc_score\n",
    "\n",
    "from functions.pipeline import *"
   ]
  },
  {
   "cell_type": "code",
   "execution_count": 2,
   "metadata": {},
   "outputs": [],
   "source": [
    "SEED = 123\n",
    "np.random.seed(SEED)"
   ]
  },
  {
   "cell_type": "code",
   "execution_count": 3,
   "metadata": {},
   "outputs": [],
   "source": [
    "p = os.path.dirname(os.path.realpath(__name__))\n",
    "path = f\"{p}/data/data.csv\"\n",
    "df = pd.read_csv(path)\n",
    "matrix, target = Gx.processing(df)"
   ]
  },
  {
   "cell_type": "code",
   "execution_count": 4,
   "metadata": {},
   "outputs": [
    {
     "data": {
      "text/html": [
       "<div>\n",
       "<style scoped>\n",
       "    .dataframe tbody tr th:only-of-type {\n",
       "        vertical-align: middle;\n",
       "    }\n",
       "\n",
       "    .dataframe tbody tr th {\n",
       "        vertical-align: top;\n",
       "    }\n",
       "\n",
       "    .dataframe thead th {\n",
       "        text-align: right;\n",
       "    }\n",
       "</style>\n",
       "<table border=\"1\" class=\"dataframe\">\n",
       "  <thead>\n",
       "    <tr style=\"text-align: right;\">\n",
       "      <th></th>\n",
       "      <th>subject</th>\n",
       "      <th>condition</th>\n",
       "      <th>replication</th>\n",
       "      <th>leg</th>\n",
       "      <th>joint</th>\n",
       "      <th>time</th>\n",
       "      <th>angle</th>\n",
       "    </tr>\n",
       "  </thead>\n",
       "  <tbody>\n",
       "    <tr>\n",
       "      <th>0</th>\n",
       "      <td>1</td>\n",
       "      <td>1</td>\n",
       "      <td>1</td>\n",
       "      <td>1</td>\n",
       "      <td>1</td>\n",
       "      <td>0</td>\n",
       "      <td>4.682881</td>\n",
       "    </tr>\n",
       "    <tr>\n",
       "      <th>1</th>\n",
       "      <td>1</td>\n",
       "      <td>1</td>\n",
       "      <td>1</td>\n",
       "      <td>1</td>\n",
       "      <td>1</td>\n",
       "      <td>1</td>\n",
       "      <td>5.073127</td>\n",
       "    </tr>\n",
       "  </tbody>\n",
       "</table>\n",
       "</div>"
      ],
      "text/plain": [
       "   subject  condition  replication  leg  joint  time     angle\n",
       "0        1          1            1    1      1     0  4.682881\n",
       "1        1          1            1    1      1     1  5.073127"
      ]
     },
     "execution_count": 4,
     "metadata": {},
     "output_type": "execute_result"
    }
   ],
   "source": [
    "df.head(2)"
   ]
  },
  {
   "cell_type": "code",
   "execution_count": 5,
   "metadata": {},
   "outputs": [
    {
     "data": {
      "text/html": [
       "<div>\n",
       "<style scoped>\n",
       "    .dataframe tbody tr th:only-of-type {\n",
       "        vertical-align: middle;\n",
       "    }\n",
       "\n",
       "    .dataframe tbody tr th {\n",
       "        vertical-align: top;\n",
       "    }\n",
       "\n",
       "    .dataframe thead th {\n",
       "        text-align: right;\n",
       "    }\n",
       "</style>\n",
       "<table border=\"1\" class=\"dataframe\">\n",
       "  <thead>\n",
       "    <tr style=\"text-align: right;\">\n",
       "      <th></th>\n",
       "      <th></th>\n",
       "      <th>left_ankle</th>\n",
       "      <th>left_knee</th>\n",
       "      <th>left_hip</th>\n",
       "      <th>right_ankle</th>\n",
       "      <th>right_knee</th>\n",
       "      <th>right_hip</th>\n",
       "    </tr>\n",
       "    <tr>\n",
       "      <th>trial</th>\n",
       "      <th>time</th>\n",
       "      <th></th>\n",
       "      <th></th>\n",
       "      <th></th>\n",
       "      <th></th>\n",
       "      <th></th>\n",
       "      <th></th>\n",
       "    </tr>\n",
       "  </thead>\n",
       "  <tbody>\n",
       "    <tr>\n",
       "      <th rowspan=\"2\" valign=\"top\">1</th>\n",
       "      <th>0</th>\n",
       "      <td>4.682881</td>\n",
       "      <td>3.693683</td>\n",
       "      <td>16.607868</td>\n",
       "      <td>5.015829</td>\n",
       "      <td>2.244425</td>\n",
       "      <td>18.94829</td>\n",
       "    </tr>\n",
       "    <tr>\n",
       "      <th>1</th>\n",
       "      <td>5.073127</td>\n",
       "      <td>4.258876</td>\n",
       "      <td>16.851029</td>\n",
       "      <td>5.291201</td>\n",
       "      <td>3.381678</td>\n",
       "      <td>19.26530</td>\n",
       "    </tr>\n",
       "  </tbody>\n",
       "</table>\n",
       "</div>"
      ],
      "text/plain": [
       "            left_ankle  left_knee   left_hip  right_ankle  right_knee  \\\n",
       "trial time                                                              \n",
       "1     0       4.682881   3.693683  16.607868     5.015829    2.244425   \n",
       "      1       5.073127   4.258876  16.851029     5.291201    3.381678   \n",
       "\n",
       "            right_hip  \n",
       "trial time             \n",
       "1     0      18.94829  \n",
       "      1      19.26530  "
      ]
     },
     "execution_count": 5,
     "metadata": {},
     "output_type": "execute_result"
    }
   ],
   "source": [
    "matrix.head(2)"
   ]
  },
  {
   "cell_type": "code",
   "execution_count": 6,
   "metadata": {},
   "outputs": [
    {
     "data": {
      "text/plain": [
       "1    1\n",
       "2    1\n",
       "Name: condition, dtype: int64"
      ]
     },
     "execution_count": 6,
     "metadata": {},
     "output_type": "execute_result"
    }
   ],
   "source": [
    "target.head(2)"
   ]
  },
  {
   "cell_type": "code",
   "execution_count": 7,
   "metadata": {},
   "outputs": [
    {
     "data": {
      "text/plain": [
       "<Axes: xlabel='time'>"
      ]
     },
     "execution_count": 7,
     "metadata": {},
     "output_type": "execute_result"
    },
    {
     "data": {
      "image/png": "[encoded data removed]",
      "text/plain": [
       "<Figure size 640x480 with 1 Axes>"
      ]
     },
     "metadata": {},
     "output_type": "display_data"
    }
   ],
   "source": [
    "# knee brace\n",
    "subject_no = 1\n",
    "condition_no = 3\n",
    "rep_no = 5\n",
    "idx = (N_REPS * N_CONDITIONS) * (subject_no - 1) + N_REPS * (condition_no - 1) + (rep_no % N_REPS)\n",
    "matrix.loc[idx, :].plot()"
   ]
  },
  {
   "cell_type": "markdown",
   "metadata": {},
   "source": [
    "# Feature Extraction"
   ]
  },
  {
   "cell_type": "code",
   "execution_count": 8,
   "metadata": {},
   "outputs": [],
   "source": [
    "means = matrix.groupby(\"trial\").mean()\n",
    "means.columns=[f\"{col}_mean\" for col in matrix.columns]\n",
    "stdevs = matrix.groupby(\"trial\").std()\n",
    "stdevs.columns=[f\"{col}_stdev\" for col in matrix.columns]"
   ]
  },
  {
   "cell_type": "code",
   "execution_count": 9,
   "metadata": {},
   "outputs": [],
   "source": [
    "stdev_ra = matrix[\"right_ankle\"].groupby(\"trial\").std()\n",
    "stdev_rk = matrix[\"right_knee\"].groupby(\"trial\").std()"
   ]
  },
  {
   "cell_type": "code",
   "execution_count": 10,
   "metadata": {},
   "outputs": [],
   "source": [
    "\n"
   ]
  },
  {
   "cell_type": "code",
   "execution_count": 11,
   "metadata": {},
   "outputs": [],
   "source": [
    "# need to write the code to set up all the parts of the covariance/correlation features (by splitting the matrix into 1, 2, 3 and 4 parts)"
   ]
  },
  {
   "cell_type": "code",
   "execution_count": 23,
   "metadata": {},
   "outputs": [],
   "source": []
  },
  {
   "cell_type": "code",
   "execution_count": 32,
   "metadata": {},
   "outputs": [
    {
     "data": {
      "text/html": [
       "<div>\n",
       "<style scoped>\n",
       "    .dataframe tbody tr th:only-of-type {\n",
       "        vertical-align: middle;\n",
       "    }\n",
       "\n",
       "    .dataframe tbody tr th {\n",
       "        vertical-align: top;\n",
       "    }\n",
       "\n",
       "    .dataframe thead th {\n",
       "        text-align: right;\n",
       "    }\n",
       "</style>\n",
       "<table border=\"1\" class=\"dataframe\">\n",
       "  <thead>\n",
       "    <tr style=\"text-align: right;\">\n",
       "      <th></th>\n",
       "      <th></th>\n",
       "      <th>left_ankle</th>\n",
       "      <th>left_knee</th>\n",
       "      <th>left_hip</th>\n",
       "      <th>right_ankle</th>\n",
       "      <th>right_knee</th>\n",
       "      <th>right_hip</th>\n",
       "    </tr>\n",
       "    <tr>\n",
       "      <th>trial</th>\n",
       "      <th>time</th>\n",
       "      <th></th>\n",
       "      <th></th>\n",
       "      <th></th>\n",
       "      <th></th>\n",
       "      <th></th>\n",
       "      <th></th>\n",
       "    </tr>\n",
       "  </thead>\n",
       "  <tbody>\n",
       "    <tr>\n",
       "      <th rowspan=\"5\" valign=\"top\">1</th>\n",
       "      <th>50</th>\n",
       "      <td>13.167916</td>\n",
       "      <td>5.389025</td>\n",
       "      <td>-12.065175</td>\n",
       "      <td>13.451293</td>\n",
       "      <td>7.593185</td>\n",
       "      <td>-12.208584</td>\n",
       "    </tr>\n",
       "    <tr>\n",
       "      <th>51</th>\n",
       "      <td>13.280866</td>\n",
       "      <td>5.573957</td>\n",
       "      <td>-12.708399</td>\n",
       "      <td>13.547248</td>\n",
       "      <td>8.104331</td>\n",
       "      <td>-12.565649</td>\n",
       "    </tr>\n",
       "    <tr>\n",
       "      <th>52</th>\n",
       "      <td>13.358667</td>\n",
       "      <td>5.892645</td>\n",
       "      <td>-13.323654</td>\n",
       "      <td>13.584862</td>\n",
       "      <td>8.716051</td>\n",
       "      <td>-12.888644</td>\n",
       "    </tr>\n",
       "    <tr>\n",
       "      <th>53</th>\n",
       "      <td>13.369976</td>\n",
       "      <td>6.331077</td>\n",
       "      <td>-13.915811</td>\n",
       "      <td>13.531314</td>\n",
       "      <td>9.455649</td>\n",
       "      <td>-13.169307</td>\n",
       "    </tr>\n",
       "    <tr>\n",
       "      <th>54</th>\n",
       "      <td>13.295140</td>\n",
       "      <td>6.888184</td>\n",
       "      <td>-14.477692</td>\n",
       "      <td>13.364414</td>\n",
       "      <td>10.358133</td>\n",
       "      <td>-13.387933</td>\n",
       "    </tr>\n",
       "    <tr>\n",
       "      <th>...</th>\n",
       "      <th>...</th>\n",
       "      <td>...</td>\n",
       "      <td>...</td>\n",
       "      <td>...</td>\n",
       "      <td>...</td>\n",
       "      <td>...</td>\n",
       "      <td>...</td>\n",
       "    </tr>\n",
       "    <tr>\n",
       "      <th rowspan=\"5\" valign=\"top\">300</th>\n",
       "      <th>96</th>\n",
       "      <td>5.469052</td>\n",
       "      <td>0.964147</td>\n",
       "      <td>25.046914</td>\n",
       "      <td>-4.136161</td>\n",
       "      <td>2.616228</td>\n",
       "      <td>29.778412</td>\n",
       "    </tr>\n",
       "    <tr>\n",
       "      <th>97</th>\n",
       "      <td>5.994900</td>\n",
       "      <td>-1.377103</td>\n",
       "      <td>24.753520</td>\n",
       "      <td>-4.050542</td>\n",
       "      <td>0.721412</td>\n",
       "      <td>29.247559</td>\n",
       "    </tr>\n",
       "    <tr>\n",
       "      <th>98</th>\n",
       "      <td>6.625519</td>\n",
       "      <td>-2.884798</td>\n",
       "      <td>24.636438</td>\n",
       "      <td>-3.933841</td>\n",
       "      <td>-0.629712</td>\n",
       "      <td>28.796951</td>\n",
       "    </tr>\n",
       "    <tr>\n",
       "      <th>99</th>\n",
       "      <td>7.293149</td>\n",
       "      <td>-3.532651</td>\n",
       "      <td>24.695275</td>\n",
       "      <td>-3.837398</td>\n",
       "      <td>-1.438054</td>\n",
       "      <td>28.432936</td>\n",
       "    </tr>\n",
       "    <tr>\n",
       "      <th>100</th>\n",
       "      <td>7.877814</td>\n",
       "      <td>-3.379236</td>\n",
       "      <td>24.901665</td>\n",
       "      <td>-3.823557</td>\n",
       "      <td>-1.747282</td>\n",
       "      <td>28.136438</td>\n",
       "    </tr>\n",
       "  </tbody>\n",
       "</table>\n",
       "<p>15300 rows × 6 columns</p>\n",
       "</div>"
      ],
      "text/plain": [
       "            left_ankle  left_knee   left_hip  right_ankle  right_knee  \\\n",
       "trial time                                                              \n",
       "1     50     13.167916   5.389025 -12.065175    13.451293    7.593185   \n",
       "      51     13.280866   5.573957 -12.708399    13.547248    8.104331   \n",
       "      52     13.358667   5.892645 -13.323654    13.584862    8.716051   \n",
       "      53     13.369976   6.331077 -13.915811    13.531314    9.455649   \n",
       "      54     13.295140   6.888184 -14.477692    13.364414   10.358133   \n",
       "...                ...        ...        ...          ...         ...   \n",
       "300   96      5.469052   0.964147  25.046914    -4.136161    2.616228   \n",
       "      97      5.994900  -1.377103  24.753520    -4.050542    0.721412   \n",
       "      98      6.625519  -2.884798  24.636438    -3.933841   -0.629712   \n",
       "      99      7.293149  -3.532651  24.695275    -3.837398   -1.438054   \n",
       "      100     7.877814  -3.379236  24.901665    -3.823557   -1.747282   \n",
       "\n",
       "            right_hip  \n",
       "trial time             \n",
       "1     50   -12.208584  \n",
       "      51   -12.565649  \n",
       "      52   -12.888644  \n",
       "      53   -13.169307  \n",
       "      54   -13.387933  \n",
       "...               ...  \n",
       "300   96    29.778412  \n",
       "      97    29.247559  \n",
       "      98    28.796951  \n",
       "      99    28.432936  \n",
       "      100   28.136438  \n",
       "\n",
       "[15300 rows x 6 columns]"
      ]
     },
     "execution_count": 32,
     "metadata": {},
     "output_type": "execute_result"
    }
   ],
   "source": [
    "time_splits = Gx.get_time_splits(matrix, 2)\n",
    "time_splits[1] # need to apply features to each element of time_splits"
   ]
  },
  {
   "cell_type": "code",
   "execution_count": 61,
   "metadata": {},
   "outputs": [],
   "source": [
    "n_time_splits = 2\n",
    "time_splits = Gx.get_time_splits(matrix, n_time_splits)\n",
    "corrs = pd.DataFrame()\n",
    "covs = pd.DataFrame()\n",
    "\n",
    "for i in range(n_time_splits):\n",
    "    for body_part in [\"ankle\", \"knee\"]:\n",
    "        \n",
    "        band = time_splits[i]\n",
    "\n",
    "        body_parts = band[[f\"left_{body_part}\", f\"right_{body_part}\"]]\n",
    "        corrs[f\"{body_part}_{i}\"] = body_parts.groupby([\"trial\"]).corr(method=\"pearson\").groupby(\"trial\")[f\"right_{body_part}\"].first()\n",
    "        covs[f\"{body_part}_{i}\"] = body_parts.groupby([\"trial\"]).cov().groupby(\"trial\")[f\"right_{body_part}\"].first()"
   ]
  },
  {
   "cell_type": "code",
   "execution_count": 62,
   "metadata": {},
   "outputs": [
    {
     "data": {
      "text/html": [
       "<div>\n",
       "<style scoped>\n",
       "    .dataframe tbody tr th:only-of-type {\n",
       "        vertical-align: middle;\n",
       "    }\n",
       "\n",
       "    .dataframe tbody tr th {\n",
       "        vertical-align: top;\n",
       "    }\n",
       "\n",
       "    .dataframe thead th {\n",
       "        text-align: right;\n",
       "    }\n",
       "</style>\n",
       "<table border=\"1\" class=\"dataframe\">\n",
       "  <thead>\n",
       "    <tr style=\"text-align: right;\">\n",
       "      <th></th>\n",
       "      <th>ankle_0</th>\n",
       "      <th>knee_0</th>\n",
       "      <th>ankle_1</th>\n",
       "      <th>knee_1</th>\n",
       "    </tr>\n",
       "    <tr>\n",
       "      <th>trial</th>\n",
       "      <th></th>\n",
       "      <th></th>\n",
       "      <th></th>\n",
       "      <th></th>\n",
       "    </tr>\n",
       "  </thead>\n",
       "  <tbody>\n",
       "    <tr>\n",
       "      <th>1</th>\n",
       "      <td>13.365133</td>\n",
       "      <td>20.845941</td>\n",
       "      <td>25.749116</td>\n",
       "      <td>432.155556</td>\n",
       "    </tr>\n",
       "    <tr>\n",
       "      <th>2</th>\n",
       "      <td>10.880072</td>\n",
       "      <td>18.453050</td>\n",
       "      <td>27.777743</td>\n",
       "      <td>459.040831</td>\n",
       "    </tr>\n",
       "    <tr>\n",
       "      <th>3</th>\n",
       "      <td>13.108196</td>\n",
       "      <td>18.670196</td>\n",
       "      <td>34.689630</td>\n",
       "      <td>468.545144</td>\n",
       "    </tr>\n",
       "    <tr>\n",
       "      <th>4</th>\n",
       "      <td>11.811998</td>\n",
       "      <td>16.934188</td>\n",
       "      <td>29.393908</td>\n",
       "      <td>491.830740</td>\n",
       "    </tr>\n",
       "    <tr>\n",
       "      <th>5</th>\n",
       "      <td>12.641388</td>\n",
       "      <td>13.377137</td>\n",
       "      <td>28.940949</td>\n",
       "      <td>476.023788</td>\n",
       "    </tr>\n",
       "    <tr>\n",
       "      <th>...</th>\n",
       "      <td>...</td>\n",
       "      <td>...</td>\n",
       "      <td>...</td>\n",
       "      <td>...</td>\n",
       "    </tr>\n",
       "    <tr>\n",
       "      <th>296</th>\n",
       "      <td>3.997201</td>\n",
       "      <td>32.438157</td>\n",
       "      <td>6.692269</td>\n",
       "      <td>367.143167</td>\n",
       "    </tr>\n",
       "    <tr>\n",
       "      <th>297</th>\n",
       "      <td>3.439986</td>\n",
       "      <td>33.740020</td>\n",
       "      <td>8.829705</td>\n",
       "      <td>408.962964</td>\n",
       "    </tr>\n",
       "    <tr>\n",
       "      <th>298</th>\n",
       "      <td>4.579553</td>\n",
       "      <td>25.674669</td>\n",
       "      <td>14.561684</td>\n",
       "      <td>438.134983</td>\n",
       "    </tr>\n",
       "    <tr>\n",
       "      <th>299</th>\n",
       "      <td>3.690856</td>\n",
       "      <td>30.880738</td>\n",
       "      <td>9.622724</td>\n",
       "      <td>395.635455</td>\n",
       "    </tr>\n",
       "    <tr>\n",
       "      <th>300</th>\n",
       "      <td>3.931699</td>\n",
       "      <td>38.544198</td>\n",
       "      <td>10.603412</td>\n",
       "      <td>400.807658</td>\n",
       "    </tr>\n",
       "  </tbody>\n",
       "</table>\n",
       "<p>300 rows × 4 columns</p>\n",
       "</div>"
      ],
      "text/plain": [
       "         ankle_0     knee_0    ankle_1      knee_1\n",
       "trial                                             \n",
       "1      13.365133  20.845941  25.749116  432.155556\n",
       "2      10.880072  18.453050  27.777743  459.040831\n",
       "3      13.108196  18.670196  34.689630  468.545144\n",
       "4      11.811998  16.934188  29.393908  491.830740\n",
       "5      12.641388  13.377137  28.940949  476.023788\n",
       "...          ...        ...        ...         ...\n",
       "296     3.997201  32.438157   6.692269  367.143167\n",
       "297     3.439986  33.740020   8.829705  408.962964\n",
       "298     4.579553  25.674669  14.561684  438.134983\n",
       "299     3.690856  30.880738   9.622724  395.635455\n",
       "300     3.931699  38.544198  10.603412  400.807658\n",
       "\n",
       "[300 rows x 4 columns]"
      ]
     },
     "execution_count": 62,
     "metadata": {},
     "output_type": "execute_result"
    }
   ],
   "source": [
    "covs"
   ]
  },
  {
   "cell_type": "code",
   "execution_count": 63,
   "metadata": {},
   "outputs": [],
   "source": [
    "# two sets of features:\n",
    "# base: mean of some of the sensors\n",
    "# correlation model\n",
    "\n",
    "# split the data into bands and then apply features to each band"
   ]
  },
  {
   "cell_type": "markdown",
   "metadata": {},
   "source": [
    "# Testing Model"
   ]
  },
  {
   "cell_type": "code",
   "execution_count": 64,
   "metadata": {},
   "outputs": [],
   "source": [
    "model = ensemble.RandomForestClassifier(n_estimators=100, max_depth=4, min_impurity_decrease=0, \n",
    "                                        bootstrap=False, criterion=\"log_loss\")\n",
    "# model = discriminant_analysis.LinearDiscriminantAnalysis(solver=\"svd\")\n",
    "# model = linear_model.LogisticRegression(max_iter=1000, multi_class=\"multinomial\") \n"
   ]
  },
  {
   "cell_type": "code",
   "execution_count": 65,
   "metadata": {},
   "outputs": [
    {
     "name": "stdout",
     "output_type": "stream",
     "text": [
      "(210, 4) (210,)\n",
      "(90, 4) (90,)\n"
     ]
    }
   ],
   "source": [
    "features = pd.concat([covs], axis=1)\n",
    "X_train, y_train, X_test, y_test = Gx.train_test_split(features, target)\n",
    "print(X_train.shape, y_train.shape)\n",
    "print(X_test.shape, y_test.shape)"
   ]
  },
  {
   "cell_type": "code",
   "execution_count": 66,
   "metadata": {},
   "outputs": [
    {
     "name": "stdout",
     "output_type": "stream",
     "text": [
      "For fold 0\n",
      "\ttrain_inputs.shape = (180, 4)\n",
      "\ttrain_targets.shape = (180,)\n",
      "\tvalid_inputs.shape = (30, 4)\n",
      "\tvalid_targets.shape = (30,)\n",
      "Accuracy: 0.7\n",
      "Accuracy: 1.0\n",
      "Accuracy: 1.0\n",
      "Accuracy: 0.9333333333333333\n",
      "Accuracy: 1.0\n",
      "Accuracy: 1.0\n",
      "Accuracy: 1.0\n"
     ]
    },
    {
     "data": {
      "text/plain": [
       "array([0.46512558, 0.0758829 , 0.00800704, 0.14075403, 0.04559369,\n",
       "       0.00734039, 0.17033122])"
      ]
     },
     "execution_count": 66,
     "metadata": {},
     "output_type": "execute_result"
    }
   ],
   "source": [
    "# here we will use cross validation, leaving out 1 subject each time!\n",
    "n_folds = TRAIN_SUBJECTS\n",
    "cv_splits = Gx.cross_validation_splits(X_train, y_train, n_folds)\n",
    "errors_valid = np.zeros(n_folds)\n",
    "\n",
    "for i in range(len(cv_splits)):\n",
    "   \n",
    "   CV_X_train, CV_y_train, CV_X_valid, CV_y_valid = cv_splits[i].values()\n",
    "   errors_valid[i], y_probs = Gx.run_model(CV_X_train, CV_y_train, CV_X_valid, CV_y_valid, model)\n",
    "\n",
    "errors_valid"
   ]
  },
  {
   "cell_type": "code",
   "execution_count": 67,
   "metadata": {},
   "outputs": [
    {
     "name": "stdout",
     "output_type": "stream",
     "text": [
      "Accuracy: 1.0\n"
     ]
    },
    {
     "data": {
      "text/plain": [
       "0.007722630346173203"
      ]
     },
     "execution_count": 67,
     "metadata": {},
     "output_type": "execute_result"
    }
   ],
   "source": [
    "error_test, y_test_probs = Gx.run_model(X_train, y_train, X_test, y_test, model)\n",
    "error_test"
   ]
  },
  {
   "cell_type": "code",
   "execution_count": 68,
   "metadata": {},
   "outputs": [
    {
     "data": {
      "text/plain": [
       "<Axes: >"
      ]
     },
     "execution_count": 68,
     "metadata": {},
     "output_type": "execute_result"
    },
    {
     "data": {
      "image/png": "[encoded data removed]",
      "text/plain": [
       "<Figure size 640x480 with 1 Axes>"
      ]
     },
     "metadata": {},
     "output_type": "display_data"
    }
   ],
   "source": [
    "pd.DataFrame(y_test_probs).plot()"
   ]
  },
  {
   "cell_type": "code",
   "execution_count": 20,
   "metadata": {},
   "outputs": [],
   "source": [
    "# ten subjects\n",
    "# ten replications\n",
    "# three conditions\n",
    "\n",
    "# 6 measurements for each one (two legs, three joints)\n",
    "# time series are 101 points long\n",
    "# so the data is actually (300 x 101 x 6), so we should represent it as such.\n",
    "\n",
    "# train-test split: \n",
    "# 7 subjects for train: should do leave-one-out validation (as in 1 subject each time)\n",
    "# 3 subjects for test: leave three subjects for test"
   ]
  },
  {
   "cell_type": "code",
   "execution_count": 21,
   "metadata": {},
   "outputs": [],
   "source": [
    "# to do:\n",
    "\n",
    "# create cov features by splitting the data (e.g. first half / second half)"
   ]
  }
 ],
 "metadata": {
  "kernelspec": {
   "display_name": "base",
   "language": "python",
   "name": "python3"
  },
  "language_info": {
   "codemirror_mode": {
    "name": "ipython",
    "version": 3
   },
   "file_extension": ".py",
   "mimetype": "text/x-python",
   "name": "python",
   "nbconvert_exporter": "python",
   "pygments_lexer": "ipython3",
   "version": "3.10.9"
  }
 },
 "nbformat": 4,
 "nbformat_minor": 2
}
